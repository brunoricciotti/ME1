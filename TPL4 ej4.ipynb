{
 "cells": [
  {
   "cell_type": "markdown",
   "id": "a5d405e7",
   "metadata": {},
   "source": [
    "# TPL4 ejercicio 4\n",
    "## Compensacion de punta\n",
    "\n",
    "A partir de una señal senoidal, medir el máximo error de tensión que se\n",
    "puede producir utilizando una punta sin compensar frente a otra compensada."
   ]
  },
  {
   "attachments": {},
   "cell_type": "markdown",
   "id": "e9422339",
   "metadata": {},
   "source": [
    "### Procedimiento especifico de la medicion\n",
    "\n",
    "Para la medicion se utilizaron:\n",
    "\n",
    "$\\cdot$ Osciloscopio GDS-1102A-U\n",
    "\n",
    "$\\cdot$ Generador de funciones TFG-3205E \n",
    "\n",
    "$\\cdot$ Punta de osciloscopio Hantek pp-150\n",
    "\n",
    "La punta debe usarse en X10 y su $Z_{in}$ es:\n",
    "\n",
    "<img src=\"img/circ_eq.png\">\n",
    "\n",
    "La transferencia es:\n",
    "\n",
    "<img src=\"img/transf.png\">\n",
    "\n",
    "Para que la punta este compensada, hay que lograr que\n",
    "\n",
    "$\\frac{R2}{R1+R2} = \\frac{C1}{C1+C2}$\n",
    "\n",
    "La punta cuenta con un perillero para variar el valor del capacitor de la punta y asi lograr la compensacion.\n",
    "\n",
    "A la entrada colocamos una señal senoidal de f=100KHz y Vpp=8V. Con la punta compensada y debido a que tenemos una atenuacion de X10, en el osciloscopio veremos:\n",
    "\n",
    "<img src=\"img/DS0023.BMP\">\n",
    "\n",
    "Luego se hace variar el capacitor de la punta para asi descompensarla.\n",
    "Se puden dar 2 casos en los que la punta no este compensada.\n",
    "\n",
    "## Sobrecompensada\n",
    "\n",
    "Es cuando $\\frac{R2}{R1+R2} < \\frac{C1}{C1+C2}$\n",
    "\n",
    "Esto implica que la ganancia en altas frecuencias sera mayor que en bajas frecuencias\n",
    "\n",
    "<img src=\"img/DS0019.BMP\">\n",
    "\n",
    "Con la punta sobrecompensada como vemos en la imagen anterior, en el osciloscopio la señal senoidal se vera de esta forma:\n",
    "\n",
    "<img src=\"img/DS0024.BMP\">\n",
    "\n",
    "En este caso se puede observar que la tension Vpp = 968mV, lo cual es bastante mayor a la de la punta compensada.\n",
    "\n",
    "\n",
    "## Subcompensada\n",
    "\n",
    "Es cuando $\\frac{R2}{R1+R2} > \\frac{C1}{C1+C2}$\n",
    "\n",
    "Esto implica que la ganancia en bajas frecuencias sera mayor que en altas frecuencias\n",
    "\n",
    "<img src=\"img/DS0020.BMP\">\n",
    "\n",
    "Con la punta sobrecompensada como vemos en la imagen anterior, en el osciloscopio la señal senoidal se vera de esta forma:\n",
    "\n",
    "<img src=\"img/DS0026.BMP\">\n",
    "\n",
    "En este caso se puede observar que la tension Vpp = 620mV, lo cual es bastante menor a la de la punta compensada.\n"
   ]
  },
  {
   "cell_type": "markdown",
   "id": "8a3dbe53",
   "metadata": {},
   "source": [
    "## máximo error de tensión\n",
    "\n",
    "Para calcular el maximo error se usara la medicion que mayor diferencia nos dio respecto de la medicion con punta compensada, en este caso la de la punta sobrecompensada.\n",
    "\n",
    "$\\Delta V_{pp} = \\left | V_{c} - V_{oc} \\right | = \\left | 768mV - 968mV \\right | = 200mV$\n",
    "\n",
    "$\\Delta V_{max} =\\frac{\\Delta V_{pp}}{2} = 100mV$"
   ]
  },
  {
   "cell_type": "markdown",
   "id": "708466ec",
   "metadata": {},
   "source": [
    "## Conclusion\n",
    "\n",
    "El $\\Delta V_{max} = 100mV$ obtenido representa aproximadamente el 25% de la ampluitud maxima de la señal original. Si multiplicamos $\\Delta V_{max}$ por el factor de atenuacion (X10), nos daria que hay un error de 1V. \n",
    "Es decir, colocando una señal senoidal de f=100KHz y Vmax=4V y teniendo una punta sobrecompensada como se vio anteriormente, en el osciloscopio observariamos una señal que corresponde a una senoidal de 5V, lo cual es un error de medicion grosero."
   ]
  }
 ],
 "metadata": {
  "kernelspec": {
   "display_name": "Python 3 (ipykernel)",
   "language": "python",
   "name": "python3"
  },
  "language_info": {
   "codemirror_mode": {
    "name": "ipython",
    "version": 3
   },
   "file_extension": ".py",
   "mimetype": "text/x-python",
   "name": "python",
   "nbconvert_exporter": "python",
   "pygments_lexer": "ipython3",
   "version": "3.9.12"
  }
 },
 "nbformat": 4,
 "nbformat_minor": 5
}
