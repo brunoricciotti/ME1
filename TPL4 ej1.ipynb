{
 "cells": [
  {
   "cell_type": "markdown",
   "id": "6a419190",
   "metadata": {},
   "source": [
    "# TPL4\n",
    "## Medición de Impedancia\n",
    "\n",
    "Se busca medir la impedancia de un dipolo paralelo conformado por un capacitor y una resistencia\n",
    "cuya fase se encuentra entre 25º/40º a una frecuencia de 1kHz. Para ello se propone medir la tensión\n",
    "y corriente del dipolo utilizando un DSO y un resistencia en serie para medir la corriente.\n",
    "Nota: Tenga cuidado de definir las resistencias para que las mediciones de tensión esté en la misma\n",
    "escala y de no cortocircuitar las masas del DSO.\n",
    "\n",
    "En nuestro caso elegimos los valores $R1 = R2 =1K\\Omega$ y $C = 100nF$"
   ]
  },
  {
   "cell_type": "code",
   "execution_count": 38,
   "id": "84bb80a4",
   "metadata": {},
   "outputs": [
    {
     "name": "stdout",
     "output_type": "stream",
     "text": [
      "fase = -32.14190763534205\n"
     ]
    }
   ],
   "source": [
    "import cmath\n",
    "from math import pi\n",
    "\n",
    "R  = 1e3\n",
    "C  = 100e-9\n",
    "Rs = 1e3\n",
    "f  = 1e3\n",
    "  \n",
    "Xc = -1/(2*pi*f*C)    \n",
    "\n",
    "Z1 = complex(1/R,1/Xc);\n",
    "\n",
    "fase = (cmath.phase(Z1))*360/(2*pi)\n",
    "print(\"fase =\",fase)"
   ]
  },
  {
   "cell_type": "code",
   "execution_count": null,
   "id": "7137311b",
   "metadata": {},
   "outputs": [],
   "source": []
  }
 ],
 "metadata": {
  "kernelspec": {
   "display_name": "Python 3 (ipykernel)",
   "language": "python",
   "name": "python3"
  },
  "language_info": {
   "codemirror_mode": {
    "name": "ipython",
    "version": 3
   },
   "file_extension": ".py",
   "mimetype": "text/x-python",
   "name": "python",
   "nbconvert_exporter": "python",
   "pygments_lexer": "ipython3",
   "version": "3.9.7"
  }
 },
 "nbformat": 4,
 "nbformat_minor": 5
}
