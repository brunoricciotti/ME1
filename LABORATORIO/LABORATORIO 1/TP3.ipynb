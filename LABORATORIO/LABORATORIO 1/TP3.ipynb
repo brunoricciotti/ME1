{
 "cells": [
  {
   "cell_type": "code",
   "execution_count": 1,
   "id": "1c375d6f",
   "metadata": {},
   "outputs": [],
   "source": [
    "import statistics as st\n",
    "import numpy as np\n",
    "\n",
    "valores_med = [[0.114,0.115,0.115,0.114,0.115],#mA\n",
    "              [0.12,0.12,0.11,0.11,0.12],#mA\n",
    "              [1.50,1.51,1.51,1.50,1.51],#mA\n",
    "              [1462,1461,1462,1462,1461],#uA\n",
    "              [6.76,6.77,6.77,6.76,6.76],#mA\n",
    "              [6.8,6.8,6.7,6.8,6.8]]#mA\n",
    "              \n",
    "vv = [0.00010,0.00010,0.00149,0.00144,0.00674,0.00675]#Valor medio obtenido con el instrumento de referencia\n",
    "\n",
    "res = [0.000001,0.00001,0.00001,0.000001,0.00001,0.0001]\n",
    "unidad = [0.001,0.001,0.001,0.000001,0.001,0.001]\n",
    "\n",
    "cuentas = [1000,100,100,1,100,10]\n",
    "\n",
    "er_p = [1,1,1,1,1,1.2]\n",
    "nc = [2,2,2,2,2,5]\n",
    "\n",
    "#ci = [10,10,149,144,674,675]"
   ]
  },
  {
   "cell_type": "code",
   "execution_count": 2,
   "id": "5fe8312e",
   "metadata": {},
   "outputs": [
    {
     "name": "stdout",
     "output_type": "stream",
     "text": [
      "No verifica la calibracion\n",
      "No verifica la calibracion\n",
      "Verifica la calibracion\n",
      "No verifica la calibracion\n",
      "Verifica la calibracion\n",
      "Verifica la calibracion\n"
     ]
    }
   ],
   "source": [
    "for i in range(len(valores_med)):\n",
    "    \n",
    "    #sacado del manual\n",
    "    delta_vv = (0.17/100 + 6/(vv[i]*1e6))*vv[i]\n",
    "\n",
    "    prom_vmed = st.mean(valores_med[i])#promedio\n",
    "    \n",
    "    ecal = prom_vmed*unidad[i] - vv[i]\n",
    "\n",
    "    delta_vi = (er_p[i]/100 + nc[i]/round(prom_vmed*cuentas[i]))*prom_vmed*unidad[i]\n",
    "\n",
    "    svi= st.stdev(valores * unidad[i] for valores in valores_med[i]) #desvio estandar de los valores medidos\n",
    "    \n",
    "    ua_vi = svi/np.sqrt(len(valores_med[i])) #Error tipo a de los valores medidos\n",
    "    ub_vi = (res[i]/2)/np.sqrt(3) #La resolucion depende de la medicion\n",
    "\n",
    "    uc_vi = np.sqrt(ua_vi**2 + ub_vi**2)\n",
    "        \n",
    "    uc_vv = delta_vv/np.sqrt(3)\n",
    "\n",
    "    uc_ecal = np.sqrt(uc_vi**2 + uc_vv**2)\n",
    "\n",
    "    U_ecal = uc_ecal*2 #95%\n",
    "\n",
    "    #print(U_ecal,\"+\",ecal , \"< \",delta_vi )\n",
    "    \n",
    "    \n",
    "    if (ecal + U_ecal) <= delta_vi:\n",
    "        print(\"Verifica la calibracion\")\n",
    "    else:\n",
    "        print(\"No verifica la calibracion\")\n",
    "\n",
    "    #print(delta_vi)"
   ]
  },
  {
   "cell_type": "code",
   "execution_count": null,
   "id": "ceb6465e",
   "metadata": {},
   "outputs": [],
   "source": []
  }
 ],
 "metadata": {
  "kernelspec": {
   "display_name": "Python 3 (ipykernel)",
   "language": "python",
   "name": "python3"
  },
  "language_info": {
   "codemirror_mode": {
    "name": "ipython",
    "version": 3
   },
   "file_extension": ".py",
   "mimetype": "text/x-python",
   "name": "python",
   "nbconvert_exporter": "python",
   "pygments_lexer": "ipython3",
   "version": "3.9.7"
  }
 },
 "nbformat": 4,
 "nbformat_minor": 5
}
