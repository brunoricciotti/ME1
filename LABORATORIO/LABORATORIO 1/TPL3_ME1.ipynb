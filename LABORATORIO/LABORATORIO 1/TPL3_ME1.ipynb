{
  "nbformat": 4,
  "nbformat_minor": 0,
  "metadata": {
    "colab": {
      "name": "TPL3_ME1.ipynb",
      "provenance": [],
      "collapsed_sections": [
        "2xTaJ-8hhbML",
        "g959zImQFsHZ",
        "oIc5sbtgL2ZS",
        "uvH8gwXMZ30s",
        "_ugIAH2icJwg",
        "RZoZGrjyfGfZ"
      ]
    },
    "kernelspec": {
      "name": "python3",
      "display_name": "Python 3"
    },
    "language_info": {
      "name": "python"
    }
  },
  "cells": [
    {
      "cell_type": "markdown",
      "source": [
        "*Tester usado: DT380B*\n",
        "\n",
        "<img src=\"https://github.com/brunoricciotti/ME1/blob/main/LABORATORIO/LABORATORIO%201/img/error_DT380B.png?raw=true:, width=100\" alt=\"My Image\" width=500>\n",
        "\n",
        "https://www.viaindustrial.com/manuales_pdf/multimetro-digital-economico-basico-96830-dt830-b-ebchq-manual-espanol.pdf\n",
        "\n",
        "**Patron HP 3468b **\n",
        "\n",
        "https://xdevs.com/doc/HP_Agilent_Keysight/HP%203468A,%20B%20Operating.pdf\n",
        "\n",
        "<img src=\"https://github.com/brunoricciotti/ME1/blob/main/LABORATORIO/LABORATORIO%201/img/error_HP3468B.png?raw=true:, width=100\" alt=\"My Image\" width=500>\n"
      ],
      "metadata": {
        "id": "-s8RSlT-dbZm"
      }
    },
    {
      "cell_type": "code",
      "source": [
        "import statistics as st\n",
        "import numpy as np\n",
        "import math as mt\n",
        "\n",
        "mA = 0.001\n",
        "uA = 0.000001\n",
        "\n",
        "res = [1e-6,1e-5,1e-4]\n",
        "\n",
        "def incertidumbre_A(X) -> float:\n",
        "  return st.stdev(X)/mt.sqrt(len(X))\n",
        "\n",
        "#Esta funcion es para error en cuentas. Si nos dan el error\n",
        "#fijo, usamos la formula, adaptando la manera en la que le enviamos los argumentos\n",
        "def inecrtidumbre_B(er_p, nd, Ci, Xm) -> float:\n",
        "  return Xm*((er_p/100)+(nd/Ci))/mt.sqrt(3)\n",
        "\n",
        "def incertidumbre_total_A_B(uA, uB) -> float:\n",
        "  return mt.sqrt( uA**2 + uB**2 )\n",
        "\n",
        "def truncate(number, decimals=0):\n",
        "    \"\"\"\n",
        "    Returns a value truncated to a specific number of decimal places.\n",
        "    \"\"\"\n",
        "    if not isinstance(decimals, int):\n",
        "        raise TypeError(\"decimal places must be an integer.\")\n",
        "    elif decimals < 0:\n",
        "        raise ValueError(\"decimal places has to be 0 or more.\")\n",
        "    elif decimals == 0:\n",
        "        return mt.trunc(number)\n",
        "\n",
        "    factor = 10.0 ** decimals\n",
        "    return mt.trunc(number * factor) / factor"
      ],
      "metadata": {
        "id": "sJBXW8XyeXVq"
      },
      "execution_count": 1,
      "outputs": []
    },
    {
      "cell_type": "markdown",
      "source": [
        "# Procedimiento específico de la medición:\n",
        "Utilizamos una fuente generadora de corriente, a la cual se le dieron distintos valores de corriente para vertificar. En nuestro caso generaron corrientes de 100uA, 1.5mA y 6.75mA.\n",
        "\n",
        "Cada una de estas corrientes fue medida usando 2 amperimetros en serie. Uno era el amperimetro patron y el otro era el generico. A su vez por cada valor de corriente se usaron 2 escalas distintas en el amperimetro generico, y por cada escala se tomaron 5 valores de cada amperimetro.\n",
        "\n",
        "A partir de las valores obtenidos se calculan las incertidumbres, y se determina si se verifica la calibracion."
      ],
      "metadata": {
        "id": "6K5ohULNAQmT"
      }
    },
    {
      "cell_type": "markdown",
      "source": [
        "#**Escala: 2000uA**\n",
        "#**Fuente: 100uA**"
      ],
      "metadata": {
        "id": "2xTaJ-8hhbML"
      }
    },
    {
      "cell_type": "code",
      "source": [
        "V_ver = [0.00010,0.00010,0.00010,0.00009,0.00009]\n",
        "V_med = [114,115,115,114,115]#uA\n",
        "V_ver_m = st.mean(V_ver)\n",
        "V_med_m = st.mean(V_med)\n",
        "ecal_m = V_med_m*uA - V_ver_m\n",
        "print(f'V_ver_m: {V_ver_m}\\nV_med_m: {V_med_m*uA}\\necal_m: {ecal_m}')"
      ],
      "metadata": {
        "colab": {
          "base_uri": "https://localhost:8080/",
          "height": 0
        },
        "id": "f--z9DhZh-5l",
        "outputId": "89a55d5c-fa3c-49c3-e71f-8f2b58e98be2"
      },
      "execution_count": 2,
      "outputs": [
        {
          "output_type": "stream",
          "name": "stdout",
          "text": [
            "V_ver_m: 9.6e-05\n",
            "V_med_m: 0.0001146\n",
            "ecal_m: 1.859999999999999e-05\n"
          ]
        }
      ]
    },
    {
      "cell_type": "markdown",
      "source": [
        "##Incertidumbres de tipo A"
      ],
      "metadata": {
        "id": "ethtCWYlphc8"
      }
    },
    {
      "cell_type": "code",
      "source": [
        "V_med_uA = list(map(lambda x: x*uA, V_med))#paso de uA a Ampere\n",
        "\n",
        "uA_V_ver = incertidumbre_A(V_ver)\n",
        "uA_V_med = incertidumbre_A(V_med_uA)\n",
        "print(f'Incertidumbre tipo A\\nuA_V_ver: {uA_V_ver}\\nuA_V_med: {uA_V_med}')"
      ],
      "metadata": {
        "colab": {
          "base_uri": "https://localhost:8080/",
          "height": 0
        },
        "id": "y_72BKqjpiXP",
        "outputId": "0126909a-342f-4cdc-f672-0a23fb5f6031"
      },
      "execution_count": 3,
      "outputs": [
        {
          "output_type": "stream",
          "name": "stdout",
          "text": [
            "Incertidumbre tipo A\n",
            "uA_V_ver: 2.4494897427831775e-06\n",
            "uA_V_med: 2.449489742783171e-07\n"
          ]
        }
      ]
    },
    {
      "cell_type": "markdown",
      "source": [
        "##Incertidumbres de tipo B\n",
        "\n",
        "\n",
        "Al calcular las cuentas ci para ambas mediciones, vemos que en **este caso en particular** todas las medidiones obtenidas con nuestro tester son de 3 digitos no decimales. Por eso no es necesario multiplicar por ningun numero para obtener las ci. Para el valor medio patron, como tiene 5 decimales lo multiplicamos por 100000,y al hacer int() los numeros decimamles se truncan. Asi obtenemos las ci.\n",
        "\n",
        "**(el mismo proceso se repetira para las otras mediciones)**"
      ],
      "metadata": {
        "id": "aglt_uWosuxl"
      }
    },
    {
      "cell_type": "code",
      "source": [
        "#valores sacados del datasheet del tester:\n",
        "nd_ver = 6\n",
        "er_p_ver = 0.17\n",
        "Ci_V_ver = int(V_ver_m*100000) #son 6 digitos, y V_ver_m esta con 5 decimales\n",
        "\n",
        "nd_med = 2\n",
        "er_p_med = 1\n",
        "Ci_V_med = int(V_med_m*1) #son 3 digitos, y V_med_m esta en uA sin decimales\n",
        "\n",
        "uB_V_ver = inecrtidumbre_B(er_p_ver, nd_ver, Ci_V_ver, V_ver_m)\n",
        "uB_V_med = (res[0]/2)/np.sqrt(3)\n",
        "print(f'Incertidumbre tipo B\\nuB_V_ver: {uB_V_ver}\\nuB_V_med: {uB_V_med}')"
      ],
      "metadata": {
        "colab": {
          "base_uri": "https://localhost:8080/",
          "height": 0
        },
        "id": "BOFo0Jd0s1c5",
        "outputId": "d88598f7-d840-43db-ac47-05cf9f2db3e1"
      },
      "execution_count": 22,
      "outputs": [
        {
          "output_type": "stream",
          "name": "stdout",
          "text": [
            "Incertidumbre tipo B\n",
            "uB_V_ver: 4.1290564481730184e-05\n",
            "uB_V_med: 2.886751345948129e-07\n"
          ]
        }
      ]
    },
    {
      "cell_type": "markdown",
      "source": [
        "##Incertidumbre total de cada magnitud\n"
      ],
      "metadata": {
        "id": "1nPNNciCx-fz"
      }
    },
    {
      "cell_type": "code",
      "source": [
        "uc_V_ver = uB_V_ver\n",
        "uc_V_med = incertidumbre_total_A_B(uA_V_med, uB_V_med)\n",
        "print(f'Incertidumbre total\\nuc_V_ver: {uc_V_ver}\\nuc_V_med: {uc_V_med}')"
      ],
      "metadata": {
        "colab": {
          "base_uri": "https://localhost:8080/",
          "height": 0
        },
        "id": "GYTEA3fTx_3X",
        "outputId": "61aa03ce-7f04-4962-d756-69064ea38cd6"
      },
      "execution_count": 23,
      "outputs": [
        {
          "output_type": "stream",
          "name": "stdout",
          "text": [
            "Incertidumbre total\n",
            "uc_V_ver: 4.1290564481730184e-05\n",
            "uc_V_med: 2.000208322483757e-05\n"
          ]
        }
      ]
    },
    {
      "cell_type": "markdown",
      "source": [
        "##Incertidumbre combinada - funcion error de calculo"
      ],
      "metadata": {
        "id": "djl27NsFyr_o"
      }
    },
    {
      "cell_type": "code",
      "source": [
        "uc_ecal = mt.sqrt(uc_V_ver**2+uc_V_med**2)\n",
        "print(f'uc_ecal: {uc_ecal}')"
      ],
      "metadata": {
        "colab": {
          "base_uri": "https://localhost:8080/",
          "height": 0
        },
        "id": "Ala43EPmys7K",
        "outputId": "110adef6-fad2-4e9f-842c-889eef7e6fae"
      },
      "execution_count": 24,
      "outputs": [
        {
          "output_type": "stream",
          "name": "stdout",
          "text": [
            "uc_ecal: 4.588021412933081e-05\n"
          ]
        }
      ]
    },
    {
      "cell_type": "markdown",
      "source": [
        "##Incertidumbre expandida"
      ],
      "metadata": {
        "id": "2mB1gX989dCz"
      }
    },
    {
      "cell_type": "code",
      "source": [
        "k95 = 2\n",
        "\n",
        "Uc_ecal = uc_ecal*k95\n",
        "print(f'Uc_ecal: {Uc_ecal}')"
      ],
      "metadata": {
        "colab": {
          "base_uri": "https://localhost:8080/",
          "height": 0
        },
        "id": "Yv-W0qeN9dm7",
        "outputId": "77c2057d-c06a-4b54-d010-a87863d732cd"
      },
      "execution_count": 25,
      "outputs": [
        {
          "output_type": "stream",
          "name": "stdout",
          "text": [
            "Uc_ecal: 9.176042825866162e-05\n"
          ]
        }
      ]
    },
    {
      "cell_type": "markdown",
      "source": [
        "## verificacion calibracion\n",
        "\n",
        "Para que la calibracion sea aceptabe, $|e_{cal_m}|+Uc_{ecal} <= \\Delta V$"
      ],
      "metadata": {
        "id": "Up807ux79iPM"
      }
    },
    {
      "cell_type": "code",
      "source": [
        "k95 = 2\n",
        "Uc_ecal = uc_ecal*k95\n",
        "print(f'Uc_ecal: {Uc_ecal}')\n",
        "\n",
        "delta_V = V_med_m*uA*((er_p_med/100)+(nd_med/Ci_V_med))\n",
        "print(f'delta_V: {delta_V}')\n",
        "\n",
        "suma = abs(ecal_m*uA)+ Uc_ecal\n",
        "print(f'|ecal_m|+Uc_ecal = {suma}')\n",
        "\n",
        "if suma <= delta_V: print('\\033[1m'+'Verifica calibracion')\n",
        "else: print('\\033[1m'+'NO verifica calibracion')"
      ],
      "metadata": {
        "colab": {
          "base_uri": "https://localhost:8080/",
          "height": 0
        },
        "id": "mTc7KROa-Mie",
        "outputId": "c767f2ec-c624-45a3-d53c-43c4a6612b4c"
      },
      "execution_count": 26,
      "outputs": [
        {
          "output_type": "stream",
          "name": "stdout",
          "text": [
            "Uc_ecal: 9.176042825866162e-05\n",
            "delta_V: 2.3278e-06\n",
            "|ecal_m|+Uc_ecal = 9.176045425866163e-05\n",
            "\u001b[1mNO verifica calibracion\n"
          ]
        }
      ]
    },
    {
      "cell_type": "markdown",
      "source": [
        "#**Escala: 20mA**\n",
        "#**Fuente: 100uA**"
      ],
      "metadata": {
        "id": "g959zImQFsHZ"
      }
    },
    {
      "cell_type": "code",
      "source": [
        "V_ver = [0.00010,0.00010,0.00010,0.00009,0.00009]\n",
        "V_med = [0.12,0.12,0.11,0.11,0.12]#mA\n",
        "V_ver_m = st.mean(V_ver)\n",
        "V_med_m = st.mean(V_med)\n",
        "ecal_m = V_med_m*mA - V_ver_m\n",
        "print(f'V_ver_m: {V_ver_m}\\nV_med_m: {V_med_m}\\necal_m: {ecal_m}')"
      ],
      "metadata": {
        "colab": {
          "base_uri": "https://localhost:8080/",
          "height": 0
        },
        "id": "RaPpmRuiFtzV",
        "outputId": "76066c9a-ee2e-4e56-e2fb-e5992006da76"
      },
      "execution_count": 27,
      "outputs": [
        {
          "output_type": "stream",
          "name": "stdout",
          "text": [
            "V_ver_m: 9.6e-05\n",
            "V_med_m: 0.11599999999999999\n",
            "ecal_m: 1.9999999999999998e-05\n"
          ]
        }
      ]
    },
    {
      "cell_type": "markdown",
      "source": [
        "##Incertidumbres de tipo A"
      ],
      "metadata": {
        "id": "6prIREzkGmBY"
      }
    },
    {
      "cell_type": "code",
      "source": [
        "V_med_mA = list(map(lambda x: x*mA, V_med))#paso de mA a Ampere\n",
        "\n",
        "uA_V_ver = incertidumbre_A(V_ver)\n",
        "uA_V_med = incertidumbre_A(V_med_mA)\n",
        "print(f'Incertidumbre tipo A\\nuA_V_ver: {uA_V_ver}\\nuA_V_med: {uA_V_med}')"
      ],
      "metadata": {
        "colab": {
          "base_uri": "https://localhost:8080/",
          "height": 0
        },
        "id": "yQI5OYmiGktZ",
        "outputId": "fa462b71-0901-4163-f15d-47419ad26ccd"
      },
      "execution_count": 28,
      "outputs": [
        {
          "output_type": "stream",
          "name": "stdout",
          "text": [
            "Incertidumbre tipo A\n",
            "uA_V_ver: 2.4494897427831775e-06\n",
            "uA_V_med: 2.4494897427831775e-06\n"
          ]
        }
      ]
    },
    {
      "cell_type": "markdown",
      "source": [
        "##Incertidumbres de tipo B"
      ],
      "metadata": {
        "id": "atkCy1AVHFfZ"
      }
    },
    {
      "cell_type": "code",
      "source": [
        "#valores sacados del datasheet del tester:\n",
        "nd_ver = 6\n",
        "er_p_ver = 0.17\n",
        "Ci_V_ver = int(V_ver_m*100000) #son 6 digitos, y V_ver_m esta con 5 decimales\n",
        "\n",
        "nd_med = 2\n",
        "er_p_med = 1\n",
        "Ci_V_med = int(V_med_m*100) #son 3 digitos, y V_med_m esta con 2 decimales\n",
        "\n",
        "uB_V_ver = inecrtidumbre_B(er_p_ver, nd_ver, Ci_V_ver, V_ver_m)\n",
        "uB_V_med = (res[1]/2)/np.sqrt(3)\n",
        "print(f'Incertidumbre tipo B\\nuB_V_ver: {uB_V_ver}\\nuB_V_med: {uB_V_med}')"
      ],
      "metadata": {
        "colab": {
          "base_uri": "https://localhost:8080/",
          "height": 0
        },
        "id": "ILo7mt5yHFza",
        "outputId": "f0752dd6-cc7e-4671-ef94-253085ef9de2"
      },
      "execution_count": 29,
      "outputs": [
        {
          "output_type": "stream",
          "name": "stdout",
          "text": [
            "Incertidumbre tipo B\n",
            "uB_V_ver: 3.70446407920678e-05\n",
            "uB_V_med: 2.8867513459481293e-06\n"
          ]
        }
      ]
    },
    {
      "cell_type": "markdown",
      "source": [
        "##Incertidumbre total de cada magnitud e incertidumbre combinada - funcion error de calculo"
      ],
      "metadata": {
        "id": "48dO4Lj4Hks7"
      }
    },
    {
      "cell_type": "code",
      "source": [
        "uc_V_ver = uB_V_ver\n",
        "uc_V_med = incertidumbre_total_A_B(uA_V_med, uB_V_med)\n",
        "print(f'Incertidumbre total\\nuc_V_ver: {uc_V_ver}\\nuc_V_med: {uc_V_med}')\n",
        "\n",
        "uc_ecal = mt.sqrt(uc_V_ver**2+uc_V_med**2)\n",
        "print(f'uc_ecal: {uc_ecal}')"
      ],
      "metadata": {
        "colab": {
          "base_uri": "https://localhost:8080/",
          "height": 0
        },
        "id": "aGlIOzf7Hk3k",
        "outputId": "4340fc29-a923-47fa-ce3b-00b758ab878c"
      },
      "execution_count": 30,
      "outputs": [
        {
          "output_type": "stream",
          "name": "stdout",
          "text": [
            "Incertidumbre total\n",
            "uc_V_ver: 3.70446407920678e-05\n",
            "uc_V_med: 3.7859388972001827e-06\n",
            "uc_ecal: 3.723759853624649e-05\n"
          ]
        }
      ]
    },
    {
      "cell_type": "markdown",
      "source": [
        "##verificacion calibracion"
      ],
      "metadata": {
        "id": "uZkG-PTbHuiB"
      }
    },
    {
      "cell_type": "code",
      "source": [
        "k95 = 2\n",
        "Uc_ecal = uc_ecal*k95\n",
        "print(f'Uc_ecal: {Uc_ecal}')\n",
        "\n",
        "delta_V = V_med_m*mA*((er_p_med/100)+(nd_med/Ci_V_med))\n",
        "print(f'delta_V: {delta_V}')\n",
        "\n",
        "suma = abs(ecal_m*uA)+ Uc_ecal\n",
        "print(f'|ecal_m|+Uc_ecal = {suma}')\n",
        "\n",
        "if suma <= delta_V: print('\\033[1m'+'Verifica calibracion')\n",
        "else: print('\\033[1m'+'NO verifica calibracion')"
      ],
      "metadata": {
        "colab": {
          "base_uri": "https://localhost:8080/",
          "height": 0
        },
        "id": "BszH8IsuHuqU",
        "outputId": "5192cf82-f437-40ca-b345-67d297fb645d"
      },
      "execution_count": 31,
      "outputs": [
        {
          "output_type": "stream",
          "name": "stdout",
          "text": [
            "Uc_ecal: 7.447519707249298e-05\n",
            "delta_V: 2.2250909090909094e-05\n",
            "|ecal_m|+Uc_ecal = 7.447521707249298e-05\n",
            "\u001b[1mNO verifica calibracion\n"
          ]
        }
      ]
    },
    {
      "cell_type": "markdown",
      "source": [
        "#**Escala: 20mA**\n",
        "#**Fuente: 1,5 mA**"
      ],
      "metadata": {
        "id": "oIc5sbtgL2ZS"
      }
    },
    {
      "cell_type": "code",
      "source": [
        "V_ver = [0.00149,0.00149,0.00148,0.00148,0.00149]\n",
        "V_med = [1.50,1.51,1.51,1.50,1.51]#mA\n",
        "V_ver_m = st.mean(V_ver)\n",
        "V_med_m = st.mean(V_med)\n",
        "ecal_m = V_med_m*mA - V_ver_m\n",
        "print(f'V_ver_m: {V_ver_m}\\nV_med_m: {V_med_m}\\necal_m: {ecal_m}')"
      ],
      "metadata": {
        "colab": {
          "base_uri": "https://localhost:8080/",
          "height": 0
        },
        "id": "Lfh0ztwYL5K_",
        "outputId": "513442a2-7e80-42a4-cb9f-6abbf9d68248"
      },
      "execution_count": 32,
      "outputs": [
        {
          "output_type": "stream",
          "name": "stdout",
          "text": [
            "V_ver_m: 0.001486\n",
            "V_med_m: 1.506\n",
            "ecal_m: 2.0000000000000052e-05\n"
          ]
        }
      ]
    },
    {
      "cell_type": "markdown",
      "source": [
        "##Incertidumbres de tipo A"
      ],
      "metadata": {
        "id": "UhQhzqs9YceS"
      }
    },
    {
      "cell_type": "code",
      "source": [
        "V_med_mA = list(map(lambda x: x*mA, V_med))#paso de mA a Ampere\n",
        "\n",
        "uA_V_ver = incertidumbre_A(V_ver)\n",
        "uA_V_med = incertidumbre_A(V_med_mA)\n",
        "print(f'Incertidumbre tipo A\\nuA_V_ver: {uA_V_ver}\\nuA_V_med: {uA_V_med}')"
      ],
      "metadata": {
        "colab": {
          "base_uri": "https://localhost:8080/",
          "height": 0
        },
        "outputId": "3d3d2425-3dc6-4f93-807a-59c72ccb7f7f",
        "id": "3QHE35MXYceS"
      },
      "execution_count": 33,
      "outputs": [
        {
          "output_type": "stream",
          "name": "stdout",
          "text": [
            "Incertidumbre tipo A\n",
            "uA_V_ver: 2.4494897427831843e-06\n",
            "uA_V_med: 2.4494897427831843e-06\n"
          ]
        }
      ]
    },
    {
      "cell_type": "markdown",
      "source": [
        "##Incertidumbres de tipo B"
      ],
      "metadata": {
        "id": "BKk7HFM4YceT"
      }
    },
    {
      "cell_type": "code",
      "source": [
        "#valores sacados del datasheet del tester:\n",
        "nd_ver = 6\n",
        "er_p_ver = 0.17\n",
        "Ci_V_ver = int(V_ver_m*100000) #son 6 digitos, y V_ver_m esta con 5 decimales\n",
        "\n",
        "nd_med = 2\n",
        "er_p_med = 1\n",
        "Ci_V_med = int(V_med_m*1000) #son 4 digitos, y V_med_m esta con 3 decimales\n",
        "\n",
        "uB_V_ver = inecrtidumbre_B(er_p_ver, nd_ver, Ci_V_ver, V_ver_m)\n",
        "uB_V_med = (res[1]/2)/np.sqrt(3)\n",
        "print(f'Incertidumbre tipo B\\nuB_V_ver: {uB_V_ver}\\nuB_V_med: {uB_V_med}')"
      ],
      "metadata": {
        "colab": {
          "base_uri": "https://localhost:8080/",
          "height": 0
        },
        "outputId": "be6b9cd1-6e03-497b-d6c6-aec69bb07302",
        "id": "JJ3w6D1IYceT"
      },
      "execution_count": 34,
      "outputs": [
        {
          "output_type": "stream",
          "name": "stdout",
          "text": [
            "Incertidumbre tipo B\n",
            "uB_V_ver: 3.623995495336942e-05\n",
            "uB_V_med: 2.8867513459481293e-06\n"
          ]
        }
      ]
    },
    {
      "cell_type": "markdown",
      "source": [
        "##Incertidumbre total de cada magnitud e incertidumbre combinada - funcion error de calculo"
      ],
      "metadata": {
        "id": "Y29uWH0AYceU"
      }
    },
    {
      "cell_type": "code",
      "source": [
        "uc_V_ver = uB_V_ver\n",
        "uc_V_med = incertidumbre_total_A_B(uA_V_med, uB_V_med)\n",
        "print(f'Incertidumbre total\\nuc_V_ver: {uc_V_ver}\\nuc_V_med: {uc_V_med}')\n",
        "\n",
        "uc_ecal = mt.sqrt(uc_V_ver**2+uc_V_med**2)\n",
        "print(f'uc_ecal: {uc_ecal}')"
      ],
      "metadata": {
        "colab": {
          "base_uri": "https://localhost:8080/",
          "height": 0
        },
        "outputId": "9eb3f170-7ce9-4933-c8e6-afbb14694d19",
        "id": "3uRCo9jTYceU"
      },
      "execution_count": 35,
      "outputs": [
        {
          "output_type": "stream",
          "name": "stdout",
          "text": [
            "Incertidumbre total\n",
            "uc_V_ver: 3.623995495336942e-05\n",
            "uc_V_med: 3.785938897200187e-06\n",
            "uc_ecal: 3.6437174264143734e-05\n"
          ]
        }
      ]
    },
    {
      "cell_type": "markdown",
      "source": [
        "##verificacion calibracion"
      ],
      "metadata": {
        "id": "BSF49zuDYceU"
      }
    },
    {
      "cell_type": "code",
      "source": [
        "k95 = 2\n",
        "Uc_ecal = uc_ecal*k95\n",
        "print(f'Uc_ecal: {Uc_ecal}')\n",
        "\n",
        "delta_V = V_med_m*mA*((er_p_med/100)+(nd_med/Ci_V_med))\n",
        "print(f'delta_V: {delta_V}')\n",
        "\n",
        "suma = abs(ecal_m*uA)+ Uc_ecal\n",
        "print(f'|ecal_m|+Uc_ecal = {suma}')\n",
        "\n",
        "if suma <= delta_V: print('\\033[1m'+'Verifica calibracion')\n",
        "else: print('\\033[1m'+'NO verifica calibracion')"
      ],
      "metadata": {
        "colab": {
          "base_uri": "https://localhost:8080/",
          "height": 0
        },
        "outputId": "302acaca-beb2-44d3-c550-f1b96db2c626",
        "id": "-tVUsBcRYceU"
      },
      "execution_count": 36,
      "outputs": [
        {
          "output_type": "stream",
          "name": "stdout",
          "text": [
            "Uc_ecal: 7.287434852828747e-05\n",
            "delta_V: 1.706e-05\n",
            "|ecal_m|+Uc_ecal = 7.287436852828747e-05\n",
            "\u001b[1mNO verifica calibracion\n"
          ]
        }
      ]
    },
    {
      "cell_type": "markdown",
      "source": [
        "#**Escala: 2000uA**\n",
        "#**Fuente: 1,5 mA**"
      ],
      "metadata": {
        "id": "uvH8gwXMZ30s"
      }
    },
    {
      "cell_type": "code",
      "source": [
        "V_ver = [0.00144,0.00144,0.00143,0.00143,0.00144]\n",
        "V_med = [1462,1461,1462,1462,1461]#uA\n",
        "V_ver_m = st.mean(V_ver)\n",
        "V_med_m = st.mean(V_med)\n",
        "ecal_m = V_med_m*uA - V_ver_m\n",
        "print(f'V_ver_m: {V_ver_m}\\nV_med_m: {V_med_m}\\necal_m: {ecal_m}')"
      ],
      "metadata": {
        "colab": {
          "base_uri": "https://localhost:8080/",
          "height": 0
        },
        "outputId": "60689517-ebb6-45b6-f37e-121d698ef6d7",
        "id": "8kJFe-giZ30t"
      },
      "execution_count": 37,
      "outputs": [
        {
          "output_type": "stream",
          "name": "stdout",
          "text": [
            "V_ver_m: 0.001436\n",
            "V_med_m: 1461.6\n",
            "ecal_m: 2.5599999999999755e-05\n"
          ]
        }
      ]
    },
    {
      "cell_type": "markdown",
      "source": [
        "##Incertidumbres de tipo A"
      ],
      "metadata": {
        "id": "k-hzGQv6Z30t"
      }
    },
    {
      "cell_type": "code",
      "source": [
        "V_med_uA = list(map(lambda x: x*uA, V_med))#paso de mA a Ampere\n",
        "\n",
        "uA_V_ver = incertidumbre_A(V_ver)\n",
        "uA_V_med = incertidumbre_A(V_med_uA)\n",
        "print(f'Incertidumbre tipo A\\nuA_V_ver: {uA_V_ver}\\nuA_V_med: {uA_V_med}')"
      ],
      "metadata": {
        "colab": {
          "base_uri": "https://localhost:8080/",
          "height": 0
        },
        "outputId": "56d3c9fc-c72f-4f0f-8112-a6bf11251d68",
        "id": "xqVIfyPeZ30t"
      },
      "execution_count": 38,
      "outputs": [
        {
          "output_type": "stream",
          "name": "stdout",
          "text": [
            "Incertidumbre tipo A\n",
            "uA_V_ver: 2.4494897427831843e-06\n",
            "uA_V_med: 2.449489742783503e-07\n"
          ]
        }
      ]
    },
    {
      "cell_type": "markdown",
      "source": [
        "##Incertidumbres de tipo B"
      ],
      "metadata": {
        "id": "Ge0nSLYDZ30t"
      }
    },
    {
      "cell_type": "code",
      "source": [
        "#valores sacados del datasheet del tester:\n",
        "nd_ver = 6\n",
        "er_p_ver = 0.17\n",
        "Ci_V_ver = int(V_ver_m*100000) #son 6 digitos, y V_ver_m esta con 5 decimales\n",
        "\n",
        "nd_med = 2\n",
        "er_p_med = 1\n",
        "Ci_V_med = int(V_med_m*1) #son 4 digitos, y V_med_m esta en uA sin decimales\n",
        "\n",
        "uB_V_ver = inecrtidumbre_B(er_p_ver, nd_ver, Ci_V_ver, V_ver_m)\n",
        "uB_V_med = (res[0]/2)/np.sqrt(3)\n",
        "print(f'Incertidumbre tipo B\\nuB_V_ver: {uB_V_ver}\\nuB_V_med: {uB_V_med}')"
      ],
      "metadata": {
        "colab": {
          "base_uri": "https://localhost:8080/",
          "height": 0
        },
        "outputId": "f0dd6e5e-a1ed-4bd4-84d4-38bfe9f7430f",
        "id": "bktN_PwdZ30u"
      },
      "execution_count": 39,
      "outputs": [
        {
          "output_type": "stream",
          "name": "stdout",
          "text": [
            "Incertidumbre tipo B\n",
            "uB_V_ver: 3.6195790549438136e-05\n",
            "uB_V_med: 2.886751345948129e-07\n"
          ]
        }
      ]
    },
    {
      "cell_type": "markdown",
      "source": [
        "##Incertidumbre total de cada magnitud e incertidumbre combinada - funcion error de calculo"
      ],
      "metadata": {
        "id": "b_HTCn1RZ30u"
      }
    },
    {
      "cell_type": "code",
      "source": [
        "uc_V_ver = uB_V_ver\n",
        "uc_V_med = incertidumbre_total_A_B(uA_V_med, uB_V_med)\n",
        "print(f'Incertidumbre total\\nuc_V_ver: {uc_V_ver}\\nuc_V_med: {uc_V_med}')\n",
        "\n",
        "uc_ecal = mt.sqrt(uc_V_ver**2+uc_V_med**2)\n",
        "print(f'uc_ecal: {uc_ecal}')"
      ],
      "metadata": {
        "colab": {
          "base_uri": "https://localhost:8080/",
          "height": 0
        },
        "outputId": "0eb1448e-f7f7-49b1-8bd4-e2f6af8a3491",
        "id": "6yeyt71qZ30u"
      },
      "execution_count": 40,
      "outputs": [
        {
          "output_type": "stream",
          "name": "stdout",
          "text": [
            "Incertidumbre total\n",
            "uc_V_ver: 3.6195790549438136e-05\n",
            "uc_V_med: 3.785938897200393e-07\n",
            "uc_ecal: 3.6197770467697704e-05\n"
          ]
        }
      ]
    },
    {
      "cell_type": "markdown",
      "source": [
        "##verificacion calibracion"
      ],
      "metadata": {
        "id": "TeBYIA7yZ30u"
      }
    },
    {
      "cell_type": "code",
      "source": [
        "k95 = 2\n",
        "Uc_ecal = uc_ecal*k95\n",
        "print(f'Uc_ecal: {Uc_ecal}')\n",
        "\n",
        "delta_V = V_med_m*uA*((er_p_med/100)+(nd_med/Ci_V_med))\n",
        "print(f'delta_V: {delta_V}')\n",
        "\n",
        "suma = abs(ecal_m*uA)+ Uc_ecal\n",
        "print(f'|ecal_m|+Uc_ecal = {suma}')\n",
        "\n",
        "if suma <= delta_V: print('\\033[1m'+'Verifica calibracion')\n",
        "else: print('\\033[1m'+'NO verifica calibracion')"
      ],
      "metadata": {
        "colab": {
          "base_uri": "https://localhost:8080/",
          "height": 0
        },
        "outputId": "8cf958e5-1aa4-45b4-c9c5-3fc18a09e883",
        "id": "uvqEY2GsZ30u"
      },
      "execution_count": 41,
      "outputs": [
        {
          "output_type": "stream",
          "name": "stdout",
          "text": [
            "Uc_ecal: 7.239554093539541e-05\n",
            "delta_V: 1.661682135523614e-05\n",
            "|ecal_m|+Uc_ecal = 7.23955665353954e-05\n",
            "\u001b[1mNO verifica calibracion\n"
          ]
        }
      ]
    },
    {
      "cell_type": "markdown",
      "source": [
        "#**Escala: 20mA**\n",
        "#**Fuente: 6,75mA**"
      ],
      "metadata": {
        "id": "_ugIAH2icJwg"
      }
    },
    {
      "cell_type": "code",
      "source": [
        "V_ver = [0.00674,0.00674,0.00673,0.00673,0.00674]\n",
        "V_med = [6.76,6.76,6.77,6.77,6.76]#mA\n",
        "V_ver_m = st.mean(V_ver)\n",
        "V_med_m = st.mean(V_med)\n",
        "ecal_m = V_med_m*mA - V_ver_m\n",
        "print(f'V_ver_m: {V_ver_m}\\nV_med_m: {V_med_m}\\necal_m: {ecal_m}')"
      ],
      "metadata": {
        "colab": {
          "base_uri": "https://localhost:8080/",
          "height": 0
        },
        "outputId": "1f6dcdda-6831-48f8-dfcb-91bc962d9671",
        "id": "WoxIfxJ5cJwo"
      },
      "execution_count": 42,
      "outputs": [
        {
          "output_type": "stream",
          "name": "stdout",
          "text": [
            "V_ver_m: 0.006736\n",
            "V_med_m: 6.763999999999999\n",
            "ecal_m: 2.799999999999938e-05\n"
          ]
        }
      ]
    },
    {
      "cell_type": "markdown",
      "source": [
        "##Incertidumbres de tipo A"
      ],
      "metadata": {
        "id": "rBobkZvIcJwo"
      }
    },
    {
      "cell_type": "code",
      "source": [
        "V_med_mA = list(map(lambda x: x*mA, V_med))#paso de mA a Ampere\n",
        "print(V_med_mA)\n",
        "print(V_ver)\n",
        "uA_V_ver = incertidumbre_A(V_ver)\n",
        "uA_V_med = incertidumbre_A(V_med_mA)\n",
        "print(f'Incertidumbre tipo A\\nuA_V_ver: {uA_V_ver}\\nuA_V_med: {uA_V_med}')"
      ],
      "metadata": {
        "colab": {
          "base_uri": "https://localhost:8080/",
          "height": 0
        },
        "outputId": "709814f6-113f-4671-b41f-213cdcae8cb0",
        "id": "hdnhxN7icJwo"
      },
      "execution_count": 43,
      "outputs": [
        {
          "output_type": "stream",
          "name": "stdout",
          "text": [
            "[0.0067599999999999995, 0.0067599999999999995, 0.00677, 0.00677, 0.0067599999999999995]\n",
            "[0.00674, 0.00674, 0.00673, 0.00673, 0.00674]\n",
            "Incertidumbre tipo A\n",
            "uA_V_ver: 2.4494897427832906e-06\n",
            "uA_V_med: 2.4494897427832906e-06\n"
          ]
        }
      ]
    },
    {
      "cell_type": "markdown",
      "source": [
        "##Incertidumbres de tipo B"
      ],
      "metadata": {
        "id": "1sbxLD0-cJwo"
      }
    },
    {
      "cell_type": "code",
      "source": [
        "#valores sacados del datasheet del tester:\n",
        "nd_ver = 6\n",
        "er_p_ver = 0.17\n",
        "Ci_V_ver = int(V_ver_m*100000) #son 6 digitos, y V_ver_m esta con 5 decimales\n",
        "\n",
        "nd_med = 2\n",
        "er_p_med = 1\n",
        "Ci_V_med = int(V_med_m*100) #son 3 digitos, y V_med_m esta con 2 decimales\n",
        "\n",
        "uB_V_ver = inecrtidumbre_B(er_p_ver, nd_ver, Ci_V_ver, V_ver_m)\n",
        "uB_V_med = (res[1]/2)/np.sqrt(3)\n",
        "print(f'Incertidumbre tipo B\\nuB_V_ver: {uB_V_ver}\\nuB_V_med: {uB_V_med}')"
      ],
      "metadata": {
        "colab": {
          "base_uri": "https://localhost:8080/",
          "height": 0
        },
        "outputId": "e929606e-0315-4f95-87ee-b7fdc935f44e",
        "id": "vczY3nbbcJwo"
      },
      "execution_count": 44,
      "outputs": [
        {
          "output_type": "stream",
          "name": "stdout",
          "text": [
            "Incertidumbre tipo B\n",
            "uB_V_ver: 4.128325307500771e-05\n",
            "uB_V_med: 2.8867513459481293e-06\n"
          ]
        }
      ]
    },
    {
      "cell_type": "markdown",
      "source": [
        "##Incertidumbre total de cada magnitud e incertidumbre combinada - funcion error de calculo"
      ],
      "metadata": {
        "id": "yKs2G5OfcJwo"
      }
    },
    {
      "cell_type": "code",
      "source": [
        "uc_V_ver = uB_V_ver\n",
        "uc_V_med = incertidumbre_total_A_B(uA_V_med, uB_V_med)\n",
        "print(f'Incertidumbre total\\nuc_V_ver: {uc_V_ver}\\nuc_V_med: {uc_V_med}')\n",
        "\n",
        "uc_ecal = mt.sqrt(uc_V_ver**2+uc_V_med**2)\n",
        "print(f'uc_ecal: {uc_ecal}')"
      ],
      "metadata": {
        "colab": {
          "base_uri": "https://localhost:8080/",
          "height": 0
        },
        "outputId": "c0a9dbd5-5e87-4e98-c646-7119f0a8da60",
        "id": "EvnONKcScJwp"
      },
      "execution_count": 45,
      "outputs": [
        {
          "output_type": "stream",
          "name": "stdout",
          "text": [
            "Incertidumbre total\n",
            "uc_V_ver: 4.128325307500771e-05\n",
            "uc_V_med: 3.7859388972002555e-06\n",
            "uc_ecal: 4.145648704109488e-05\n"
          ]
        }
      ]
    },
    {
      "cell_type": "markdown",
      "source": [
        "##verificacion calibracion"
      ],
      "metadata": {
        "id": "KgJscBCGcJwp"
      }
    },
    {
      "cell_type": "code",
      "source": [
        "k95 = 2\n",
        "Uc_ecal = uc_ecal*k95\n",
        "print(f'Uc_ecal: {Uc_ecal}')\n",
        "\n",
        "delta_V = V_med_m*mA*((er_p_med/100)+(nd_med/Ci_V_med))\n",
        "print(f'delta_V: {delta_V}')\n",
        "\n",
        "suma = abs(ecal_m*mA)+ Uc_ecal\n",
        "print(f'|ecal_m|+Uc_ecal = {suma}')\n",
        "\n",
        "if suma <= delta_V: print('\\033[1m'+'Verifica calibracion')\n",
        "else: print('\\033[1m'+'NO verifica calibracion')"
      ],
      "metadata": {
        "colab": {
          "base_uri": "https://localhost:8080/",
          "height": 0
        },
        "outputId": "95ecd157-3dc2-46ca-8fde-217abbac8afc",
        "id": "My8JTzfBcJwp"
      },
      "execution_count": 46,
      "outputs": [
        {
          "output_type": "stream",
          "name": "stdout",
          "text": [
            "Uc_ecal: 8.291297408218975e-05\n",
            "delta_V: 8.765183431952661e-05\n",
            "|ecal_m|+Uc_ecal = 8.294097408218975e-05\n",
            "\u001b[1mVerifica calibracion\n"
          ]
        }
      ]
    },
    {
      "cell_type": "markdown",
      "source": [
        "#**Escala: 200mA**\n",
        "#**Fuente: 6,75mA**"
      ],
      "metadata": {
        "id": "RZoZGrjyfGfZ"
      }
    },
    {
      "cell_type": "code",
      "source": [
        "V_ver = [0.00675,0.00675,0.00676,0.00676,0.00675]\n",
        "V_med = [6.8,6.8,6.7,6.8,6.8]#mA\n",
        "V_ver_m = st.mean(V_ver)\n",
        "V_med_m = st.mean(V_med)\n",
        "ecal_m = V_med_m*mA - V_ver_m\n",
        "print(f'V_ver_m: {V_ver_m}\\nV_med_m: {V_med_m}\\necal_m: {ecal_m}')"
      ],
      "metadata": {
        "colab": {
          "base_uri": "https://localhost:8080/",
          "height": 0
        },
        "outputId": "b9c65c80-1aff-4c06-a9a2-4018775245ea",
        "id": "XkqX7H6PfGfe"
      },
      "execution_count": 15,
      "outputs": [
        {
          "output_type": "stream",
          "name": "stdout",
          "text": [
            "V_ver_m: 0.0067540000000000005\n",
            "V_med_m: 6.78\n",
            "ecal_m: 2.599999999999998e-05\n"
          ]
        }
      ]
    },
    {
      "cell_type": "markdown",
      "source": [
        "##Incertidumbres de tipo A"
      ],
      "metadata": {
        "id": "jGgQQ1amfGff"
      }
    },
    {
      "cell_type": "code",
      "source": [
        "V_med_mA = list(map(lambda x: x*mA, V_med))#paso de mA a Ampere\n",
        "\n",
        "uA_V_ver = incertidumbre_A(V_ver)\n",
        "uA_V_med = incertidumbre_A(V_med_mA)\n",
        "print(f'Incertidumbre tipo A\\nuA_V_ver: {uA_V_ver}\\nuA_V_med: {uA_V_med}')"
      ],
      "metadata": {
        "colab": {
          "base_uri": "https://localhost:8080/",
          "height": 0
        },
        "outputId": "746bd0ee-0169-4ba3-f8a6-5e83d0610038",
        "id": "dUOTP81sfGff"
      },
      "execution_count": 16,
      "outputs": [
        {
          "output_type": "stream",
          "name": "stdout",
          "text": [
            "Incertidumbre tipo A\n",
            "uA_V_ver: 2.4494897427832906e-06\n",
            "uA_V_med: 1.999999999999988e-05\n"
          ]
        }
      ]
    },
    {
      "cell_type": "markdown",
      "source": [
        "##Incertidumbres de tipo B"
      ],
      "metadata": {
        "id": "Ua8aOUaJfGff"
      }
    },
    {
      "cell_type": "code",
      "source": [
        "#valores sacados del datasheet del tester:\n",
        "nd_ver = 6\n",
        "er_p_ver = 0.17\n",
        "Ci_V_ver = int(V_ver_m*100000) #son 6 digitos, y V_ver_m esta con 5 decimales\n",
        "\n",
        "nd_med = 5\n",
        "er_p_med = 1.2\n",
        "Ci_V_med = int(V_med_m*10) #son 2 digitos, y V_med_m esta con 1 decimal\n",
        "\n",
        "uB_V_ver = inecrtidumbre_B(er_p_ver, nd_ver, Ci_V_ver, V_ver_m)\n",
        "uB_V_med = (res[2]/2)/np.sqrt(3)\n",
        "print(f'Incertidumbre tipo B\\nuB_V_ver: {uB_V_ver}\\nuB_V_med: {uB_V_med}')"
      ],
      "metadata": {
        "colab": {
          "base_uri": "https://localhost:8080/",
          "height": 0
        },
        "outputId": "9670ec27-eee9-477b-e1fb-963931e5c8b5",
        "id": "uzNbMa_4fGff"
      },
      "execution_count": 21,
      "outputs": [
        {
          "output_type": "stream",
          "name": "stdout",
          "text": [
            "Incertidumbre tipo B\n",
            "uB_V_ver: 4.1290564481730184e-05\n",
            "uB_V_med: 2.8867513459481293e-05\n"
          ]
        }
      ]
    },
    {
      "cell_type": "markdown",
      "source": [
        "##Incertidumbre total de cada magnitud e incertidumbre combinada - funcion error de calculo"
      ],
      "metadata": {
        "id": "-XV6oEMtfGff"
      }
    },
    {
      "cell_type": "code",
      "source": [
        "uc_V_ver = uB_V_ver\n",
        "uc_V_med = incertidumbre_total_A_B(uA_V_med, uB_V_med)\n",
        "print(f'Incertidumbre total\\nuc_V_ver: {uc_V_ver}\\nuc_V_med: {uc_V_med}')\n",
        "\n",
        "uc_ecal = mt.sqrt(uc_V_ver**2+uc_V_med**2)\n",
        "print(f'uc_ecal: {uc_ecal}')"
      ],
      "metadata": {
        "colab": {
          "base_uri": "https://localhost:8080/",
          "height": 0
        },
        "outputId": "a3653d77-6f2a-4548-a0d8-b1a062eb06a7",
        "id": "M30oLT1yfGff"
      },
      "execution_count": 20,
      "outputs": [
        {
          "output_type": "stream",
          "name": "stdout",
          "text": [
            "Incertidumbre total\n",
            "uc_V_ver: 4.1290564481730184e-05\n",
            "uc_V_med: 3.5118845842842394e-05\n",
            "uc_ecal: 5.420557211720255e-05\n"
          ]
        }
      ]
    },
    {
      "cell_type": "markdown",
      "source": [
        "##verificacion calibracion"
      ],
      "metadata": {
        "id": "qnOICsVmfGff"
      }
    },
    {
      "cell_type": "code",
      "source": [
        "k95 = 2\n",
        "Uc_ecal = uc_ecal*k95\n",
        "print(f'Uc_ecal: {Uc_ecal}')\n",
        "\n",
        "delta_V = V_med_m*mA*((er_p_med/100)+(nd_med/Ci_V_med))\n",
        "print(f'delta_V: {delta_V}')\n",
        "\n",
        "suma = abs(ecal_m*mA)+ Uc_ecal\n",
        "print(f'|ecal_m|+Uc_ecal = {suma}')\n",
        "\n",
        "if suma <= delta_V: print('\\033[1m' + 'Verifica calibracion')\n",
        "else: print('\\033[1m' + 'NO verifica calibracion')"
      ],
      "metadata": {
        "colab": {
          "base_uri": "https://localhost:8080/",
          "height": 0
        },
        "outputId": "ef54f986-27c3-4d12-8e4f-0f8ad0ae38b9",
        "id": "Lbi0CxPGfGfg"
      },
      "execution_count": 14,
      "outputs": [
        {
          "output_type": "stream",
          "name": "stdout",
          "text": [
            "Uc_ecal: 0.0001084111442344051\n",
            "delta_V: 0.0005873301492537313\n",
            "|ecal_m|+Uc_ecal = 0.0001084371442344051\n",
            "\u001b[1mVerifica calibracion\n"
          ]
        }
      ]
    }
  ]
}