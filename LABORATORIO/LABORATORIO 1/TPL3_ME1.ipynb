{
  "nbformat": 4,
  "nbformat_minor": 0,
  "metadata": {
    "colab": {
      "name": "TPL3_ME1.ipynb",
      "provenance": [],
      "collapsed_sections": []
    },
    "kernelspec": {
      "name": "python3",
      "display_name": "Python 3"
    },
    "language_info": {
      "name": "python"
    }
  },
  "cells": [
    {
      "cell_type": "markdown",
      "source": [
        "*Tester usado: DT380B*\n",
        "\n",
        "<img src=\"https://github.com/brunoricciotti/ME1/blob/main/LABORATORIO/LABORATORIO%201/img/error_DT380B.png?raw=true:, width=100\" alt=\"My Image\" width=500>\n",
        "\n",
        "https://www.viaindustrial.com/manuales_pdf/multimetro-digital-economico-basico-96830-dt830-b-ebchq-manual-espanol.pdf\n",
        "\n",
        "**Patron HP 3468b **\n",
        "\n",
        "https://xdevs.com/doc/HP_Agilent_Keysight/HP%203468A,%20B%20Operating.pdf\n",
        "\n",
        "<img src=\"https://github.com/brunoricciotti/ME1/blob/main/LABORATORIO/LABORATORIO%201/img/error_HP3468B.png?raw=true:, width=100\" alt=\"My Image\" width=500>\n"
      ],
      "metadata": {
        "id": "-s8RSlT-dbZm"
      }
    },
    {
      "cell_type": "code",
      "source": [
        "import statistics as st\n",
        "import numpy as np\n",
        "import math as mt\n",
        "\n",
        "mA = 0.001\n",
        "uA = 0.000001\n",
        "\n",
        "def incertidumbre_A(X) -> float:\n",
        "  return st.stdev(X)/mt.sqrt(len(X))\n",
        "\n",
        "#Esta funcion es para error en cuentas. Si nos dan el error\n",
        "#fijo, usamos la formula, adaptando la manera en la que le enviamos los argumentos\n",
        "def inecrtidumbre_B(er_p, nd, Ci, Xm) -> float:\n",
        "  return Xm*((er_p/100)+(nd/Ci))/mt.sqrt(3)\n",
        "\n",
        "def incertidumbre_total_A_B(uA, uB) -> float:\n",
        "  return mt.sqrt( uA**2 + uB**2 )\n",
        "\n",
        "def truncate(number, decimals=0):\n",
        "    \"\"\"\n",
        "    Returns a value truncated to a specific number of decimal places.\n",
        "    \"\"\"\n",
        "    if not isinstance(decimals, int):\n",
        "        raise TypeError(\"decimal places must be an integer.\")\n",
        "    elif decimals < 0:\n",
        "        raise ValueError(\"decimal places has to be 0 or more.\")\n",
        "    elif decimals == 0:\n",
        "        return mt.trunc(number)\n",
        "\n",
        "    factor = 10.0 ** decimals\n",
        "    return mt.trunc(number * factor) / factor"
      ],
      "metadata": {
        "id": "sJBXW8XyeXVq"
      },
      "execution_count": 5,
      "outputs": []
    },
    {
      "cell_type": "markdown",
      "source": [
        "#**Escala: 2mA**\n",
        "#**Fuente: 100uA**"
      ],
      "metadata": {
        "id": "2xTaJ-8hhbML"
      }
    },
    {
      "cell_type": "code",
      "source": [
        "V_ver = [0.00010,0.00010,0.00010,0.00009,0.00009]\n",
        "V_med = [114,115,115,114,115]#uA\n",
        "V_ver_m = st.mean(V_ver)\n",
        "V_med_m = st.mean(V_med)\n",
        "ecal_m = V_med_m - V_ver_m\n",
        "print(f'V_ver_m: {V_ver_m}\\nV_med_m: {V_med_m}\\necal_m: {ecal_m}')"
      ],
      "metadata": {
        "colab": {
          "base_uri": "https://localhost:8080/"
        },
        "id": "f--z9DhZh-5l",
        "outputId": "34d15c57-4ed4-46df-cb46-bff9afe2a64e"
      },
      "execution_count": 15,
      "outputs": [
        {
          "output_type": "stream",
          "name": "stdout",
          "text": [
            "V_ver_m: 9.6e-05\n",
            "V_med_m: 114.6\n",
            "ecal_m: 114.599904\n"
          ]
        }
      ]
    },
    {
      "cell_type": "markdown",
      "source": [
        "##Incertidumbres de tipo A"
      ],
      "metadata": {
        "id": "ethtCWYlphc8"
      }
    },
    {
      "cell_type": "code",
      "source": [
        "V_med = list(map(lambda x: x*uA, V_med))#paso de uA a Ampere\n",
        "uA_V_ver = incertidumbre_A(V_ver)\n",
        "uA_V_med = incertidumbre_A(V_med)\n",
        "print(f'Incertidumbre tipo A\\nuA_V_ver: {uA_V_ver}\\nuA_V_med: {uA_V_med}')"
      ],
      "metadata": {
        "colab": {
          "base_uri": "https://localhost:8080/"
        },
        "id": "y_72BKqjpiXP",
        "outputId": "34441b50-da27-4e8a-9f0e-375071ce5f37"
      },
      "execution_count": 16,
      "outputs": [
        {
          "output_type": "stream",
          "name": "stdout",
          "text": [
            "Incertidumbre tipo A\n",
            "uA_V_ver: 2.4494897427831775e-06\n",
            "uA_V_med: 2.449489742783171e-07\n"
          ]
        }
      ]
    },
    {
      "cell_type": "markdown",
      "source": [
        "##Incertidumbres de tipo B\n",
        "\n",
        "\n",
        "Al calcular las cuentas ci para ambas mediciones, vemos que EN ESTE CASO PARTICULAR todas las medidiones que nos dan son de 3 digitos. Como vemos que en ambos casos el valor mas probable dio con un solo digito no decimal, multiplicamos por 100 ambos valores medios, teniendo 3 digitos no decimales, y al hacer int() los numeros decimamles se truncan."
      ],
      "metadata": {
        "id": "aglt_uWosuxl"
      }
    },
    {
      "cell_type": "code",
      "source": [
        "#valores sacados del datasheet del tester:\n",
        "nd_ver = 6\n",
        "er_p_ver = 0.17\n",
        "Ci_V_ver = int(V_ver_m*100000) #son 6 digitos, y V_ver_m esta con 5 decimales\n",
        "\n",
        "nd_med = 2\n",
        "er_p_med = 1\n",
        "Ci_V_med = int(V_med_m*1) #son 3 digitos, y V_med_m esta en uA sin decimales\n",
        "\n",
        "uB_V_ver = inecrtidumbre_B(er_p_ver, nd_ver, Ci_V_ver, V_ver_m)\n",
        "uB_V_med = inecrtidumbre_B(er_p_med, nd_med, Ci_V_med, V_med_m*uA)\n",
        "print(f'Incertidumbre tipo B\\nuB_V_ver: {uB_V_ver}\\nuB_V_med: {uB_V_med}')"
      ],
      "metadata": {
        "colab": {
          "base_uri": "https://localhost:8080/"
        },
        "id": "BOFo0Jd0s1c5",
        "outputId": "189a0ef7-1126-4bcb-ba19-0e28f8bfe401"
      },
      "execution_count": 23,
      "outputs": [
        {
          "output_type": "stream",
          "name": "stdout",
          "text": [
            "Incertidumbre tipo B\n",
            "uB_V_ver: 3.70446407920678e-05\n",
            "uB_V_med: 1.8224213181251904e-06\n"
          ]
        }
      ]
    },
    {
      "cell_type": "markdown",
      "source": [
        "##Incertidumbre total de cada magnitud\n"
      ],
      "metadata": {
        "id": "1nPNNciCx-fz"
      }
    },
    {
      "cell_type": "code",
      "source": [
        "uc_V_ver = uB_V_ver\n",
        "uc_V_med = incertidumbre_total_A_B(uA_V_med, uB_V_med)\n",
        "print(f'Incertidumbre total\\nuc_V_ver: {uc_V_ver}\\nuc_V_med: {uc_V_med}')"
      ],
      "metadata": {
        "colab": {
          "base_uri": "https://localhost:8080/"
        },
        "id": "GYTEA3fTx_3X",
        "outputId": "c26a603c-0dd4-4a3d-8b5f-275c6a01cde6"
      },
      "execution_count": 24,
      "outputs": [
        {
          "output_type": "stream",
          "name": "stdout",
          "text": [
            "Incertidumbre total\n",
            "uc_V_ver: 3.70446407920678e-05\n",
            "uc_V_med: 1.8388092507808297e-06\n"
          ]
        }
      ]
    },
    {
      "cell_type": "markdown",
      "source": [
        "##Incertidumbre combinada - funcion error de calculo"
      ],
      "metadata": {
        "id": "djl27NsFyr_o"
      }
    },
    {
      "cell_type": "code",
      "source": [
        "uc_ecal = mt.sqrt(uc_V_ver**2+uc_V_med**2)\n",
        "print(f'uc_ecal: {uc_ecal}')"
      ],
      "metadata": {
        "colab": {
          "base_uri": "https://localhost:8080/"
        },
        "id": "Ala43EPmys7K",
        "outputId": "19550c4d-6f49-4ac7-f7ff-304c37566acd"
      },
      "execution_count": 25,
      "outputs": [
        {
          "output_type": "stream",
          "name": "stdout",
          "text": [
            "uc_ecal: 3.7090249808731276e-05\n"
          ]
        }
      ]
    },
    {
      "cell_type": "markdown",
      "source": [
        "##Factor de expansion\n",
        "\n",
        "Podemos ver que las incertidumbres de tipo A son mucho mayores, ambos casos uA >> uB, por lo menos por 10 veces. Por lo tanto usamos la tabla para k B dominante"
      ],
      "metadata": {
        "id": "144FyUUh8sIR"
      }
    },
    {
      "cell_type": "code",
      "source": [
        "relacion_ui = (uA_V_ver + uA_V_med) / (uB_V_ver + uB_V_med)\n",
        "\n",
        "print(f'relacion_ui: {relacion_ui}')"
      ],
      "metadata": {
        "colab": {
          "base_uri": "https://localhost:8080/"
        },
        "id": "Rk06G3kt9E_t",
        "outputId": "01bfc859-e048-42e0-c90f-ce00728c33f1"
      },
      "execution_count": 26,
      "outputs": [
        {
          "output_type": "stream",
          "name": "stdout",
          "text": [
            "relacion_ui: 0.06932447606722689\n"
          ]
        }
      ]
    },
    {
      "cell_type": "code",
      "source": [
        "k95 = 1.9 #relacion es aprox 0,70"
      ],
      "metadata": {
        "id": "1YQ915ih9VVf"
      },
      "execution_count": 27,
      "outputs": []
    },
    {
      "cell_type": "markdown",
      "source": [
        "##Incertidumbre expandida"
      ],
      "metadata": {
        "id": "2mB1gX989dCz"
      }
    },
    {
      "cell_type": "code",
      "source": [
        "Uc_ecal = uc_ecal*k95\n",
        "print(f'Uc_ecal: {Uc_ecal}')"
      ],
      "metadata": {
        "colab": {
          "base_uri": "https://localhost:8080/"
        },
        "id": "Yv-W0qeN9dm7",
        "outputId": "77e7bec0-e782-4f45-9622-9c72d0a68719"
      },
      "execution_count": 28,
      "outputs": [
        {
          "output_type": "stream",
          "name": "stdout",
          "text": [
            "Uc_ecal: 7.047147463658943e-05\n"
          ]
        }
      ]
    },
    {
      "cell_type": "markdown",
      "source": [
        "## verificacion calibracion\n",
        "\n",
        "Para que la calibracion sea aceptabe, $|e_{cal_m}|+Uc_{ecal} <= \\Delta V$"
      ],
      "metadata": {
        "id": "Up807ux79iPM"
      }
    },
    {
      "cell_type": "code",
      "source": [
        "delta_V = V_med_m*uA*((er_p_med/100)+(nd_med/Ci_V_med))\n",
        "print(f'delta_V: {delta_V}')\n",
        "\n",
        "suma = abs(ecal_m*uA)+ Uc_ecal\n",
        "print(f'|ecal_m|+Uc_ecal = {suma}')\n",
        "\n",
        "if suma <= delta_V: print('Verifica calibracion')\n",
        "else: print('NO verifica calibracion')"
      ],
      "metadata": {
        "colab": {
          "base_uri": "https://localhost:8080/"
        },
        "id": "mTc7KROa-Mie",
        "outputId": "976d17b0-92e1-460e-db86-9aa7ae55f013"
      },
      "execution_count": 30,
      "outputs": [
        {
          "output_type": "stream",
          "name": "stdout",
          "text": [
            "delta_V: 3.1565263157894737e-06\n",
            "|ecal_m|+Uc_ecal = 0.0001850713786365894\n",
            "NO verifica calibracion\n"
          ]
        }
      ]
    }
  ]
}