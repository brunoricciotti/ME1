{
 "cells": [
  {
   "cell_type": "markdown",
   "metadata": {
    "colab_type": "text",
    "id": "view-in-github"
   },
   "source": [
    "<a href=\"https://colab.research.google.com/github/brunoricciotti/ME1/blob/main/TPL3_Calibracion.ipynb\" target=\"_parent\"><img src=\"https://colab.research.google.com/assets/colab-badge.svg\" alt=\"Open In Colab\"/></a>"
   ]
  },
  {
   "cell_type": "code",
   "execution_count": 13,
   "metadata": {
    "id": "sJBXW8XyeXVq"
   },
   "outputs": [],
   "source": [
    "import statistics as st\n",
    "import numpy as np\n",
    "import math as mt\n",
    "\n",
    "mA = 0.001\n",
    "uA = 0.000001\n",
    "\n",
    "res = [1e-6,1e-5,1e-4]\n",
    "\n",
    "def incertidumbre_A(X) -> float:\n",
    "  return st.stdev(X)/mt.sqrt(len(X))\n",
    "\n",
    "#Esta funcion es para error en cuentas. Si nos dan el error\n",
    "#fijo, usamos la formula, adaptando la manera en la que le enviamos los argumentos\n",
    "def inecrtidumbre_B(er_p, nd, Ci, Xm) -> float:\n",
    "  return Xm*((er_p/100)+(nd/Ci))/mt.sqrt(3)\n",
    "\n",
    "def incertidumbre_total_A_B(uA, uB) -> float:\n",
    "  return mt.sqrt( uA**2 + uB**2 )\n",
    "\n",
    "def incertidumbre_Vc(uA_Vp, uB_Vp,uA_Vm) -> float:\n",
    "  return mt.sqrt (uA_Vp**2+uB_Vp**2 +uA_Vm**2 )\n",
    "\n",
    "# Esta funcion retorna la cantidad de cuentas de un numero 'num' para una cantidad de digitos 'digits'\n",
    "def cuentas(num, digits) -> int:\n",
    "  dec = len(str(int(num)))\n",
    "  x = digits - dec\n",
    "  return int(num*(10**x))\n",
    "\n",
    "def truncate(number, decimals=0):\n",
    "    \"\"\"\n",
    "    Returns a value truncated to a specific number of decimal places.\n",
    "    \"\"\"\n",
    "    if not isinstance(decimals, int):\n",
    "        raise TypeError(\"decimal places must be an integer.\")\n",
    "    elif decimals < 0:\n",
    "        raise ValueError(\"decimal places has to be 0 or more.\")\n",
    "    elif decimals == 0:\n",
    "        return mt.trunc(number)\n",
    "\n",
    "    factor = 10.0 ** decimals\n",
    "    return mt.trunc(number * factor) / factor"
   ]
  },
  {
   "cell_type": "markdown",
   "metadata": {
    "id": "Ef-WqTxgvlIm"
   },
   "source": [
    "# **TENSIONES**"
   ]
  },
  {
   "cell_type": "markdown",
   "metadata": {
    "id": "EhDIf0Gq2Zup"
   },
   "source": [
    "## instrumentacion"
   ]
  },
  {
   "cell_type": "markdown",
   "metadata": {
    "id": "vEZfftUU2Uth"
   },
   "source": [
    "*Tester usado: MAS830L*\n",
    "\n",
    "<img src=\"https://github.com/brunoricciotti/ME1/blob/main/LABORATORIO/LABORATORIO_1/img/error_MAS830L.png?raw=true:, width=100\" alt=\"My Image\" width=700>\n",
    "\n",
    "https://mastech-group.com/na/en/MAS830L\n",
    "\n",
    "Patron HP 3468b\n",
    "\n",
    "https://xdevs.com/doc/HP_Agilent_Keysight/HP%203468A,%20B%20Operating.pdf\n",
    "\n",
    "<img src=\"https://github.com/brunoricciotti/ME1/blob/main/LABORATORIO/LABORATORIO_1/img/error_HP3468B_voltimetro.png?raw=true:, width=100\" alt=\"My Image\" width=500>"
   ]
  },
  {
   "cell_type": "markdown",
   "metadata": {
    "id": "qAVo5T2atTyj"
   },
   "source": [
    "## valores medios\n",
    "\n",
    "Las mediciones se realizaron para 4 valores distintos de la fuente, con dos escalas distintas del tester en cada valor."
   ]
  },
  {
   "cell_type": "code",
   "execution_count": 2,
   "metadata": {
    "colab": {
     "base_uri": "https://localhost:8080/"
    },
    "id": "auwKXJGutJaz",
    "outputId": "6ea55c8f-ddd7-4e3d-9a15-6c7d29fa12d1"
   },
   "outputs": [
    {
     "name": "stdout",
     "output_type": "stream",
     "text": [
      "[0.1039, 0.1039, 0.1039, 0.1038, 0.1038]\n",
      "\n",
      "Tension de fuente 0.1V\n",
      "  escala 200mV\n",
      "    medido:0.10386000000000001\n",
      "    verdadero:0.10352\n",
      "    ecal_m:0.00034000000000000696\n",
      "  escala 2V\n",
      "    medido:0.102\n",
      "    verdadero:0.102474\n",
      "    ecal_m:-0.0004740000000000022\n",
      "\n",
      "Tension de fuente 1V\n",
      "  escala 2V\n",
      "    medido:1.0382\n",
      "    verdadero:1.036676\n",
      "    ecal_m:0.0015240000000000808\n",
      "  escala 20V\n",
      "    medido:1.028\n",
      "    verdadero:1.029638\n",
      "    ecal_m:-0.0016380000000000283\n",
      "\n",
      "Tension de fuente 9V\n",
      "  escala 20V\n",
      "    medido:9.071\n",
      "    verdadero:9.05429\n",
      "    ecal_m:0.01670999999999978\n",
      "  escala 200V\n",
      "    medido:9.09\n",
      "    verdadero:9.02333\n",
      "    ecal_m:0.06667000000000023\n",
      "\n",
      "Tension de fuente 24V\n",
      "  escala 200V\n",
      "    medido:24\n",
      "    verdadero:24.00382\n",
      "    ecal_m:-0.0038200000000010448\n",
      "  escala 600V\n",
      "    medido:24\n",
      "    verdadero:24.98672\n",
      "    ecal_m:-0.9867199999999983\n",
      "\n"
     ]
    }
   ],
   "source": [
    "from typing import List\n",
    "V_ver = [\n",
    "         [[0.10352, 0.10351, 0.1035, 0.10352, 0.10355], [0.10206, 0.10259, 0.10258, 0.10257, 0.10257]],\n",
    "         [[1.03808, 1.03709, 1.03634, 1.03612, 1.03575], [1.02965, 1.02959, 1.02963, 1.02965, 1.02967]],\n",
    "         [[9.0600, 9.0585, 9.0563, 9.0552, 9.0531, 9.0521, 9.0515, 9.0538, 9.0521, 9.0503], [9.0238, 9.0237, 9.0236, 9.0235, 9.0233, 9.0230, 9.0229, 9.0231, 9.0233, 9.0231]],\n",
    "         [[24.0052, 24.0043, 24.0035,24.0031, 24.0030], [24.9868, 24.9867, 24.9866, 24.9868, 24.9867]]\n",
    "        ]\n",
    "\n",
    "V_med = [\n",
    "         [[0.1039, 0.1039, 0.1039, 0.1038, 0.1038], [0.102, 0.102, 0.102, 0.102, 0.102]],\n",
    "         [[1.039, 1.039, 1.038, 1.038, 1.037], [1.03, 1.03, 1.03, 1.03, 1.02]],\n",
    "         [[9.08, 9.08, 9.08, 9.08, 9.07, 9.07, 9.07, 9.06, 9.06, 9.06], [9.09, 9.09, 9.09, 9.09, 9.09, 9.09, 9.09, 9.09, 9.09, 9.09]],\n",
    "         [[24, 24, 24, 24, 24], [24, 24, 24, 24, 24]]         \n",
    "]\n",
    "digits_ver = 6 # cantidad de digitos del patron\n",
    "digits_med = 4 # cantidad de digitos del tester propio\n",
    "\n",
    "V_ver_m=list(list())\n",
    "V_med_m=list(list())\n",
    "ecal_m=list(list())\n",
    "\n",
    "\n",
    "for i in range(len(V_ver)):\n",
    "  V_ver_m.append(list())\n",
    "  V_med_m.append(list())\n",
    "  ecal_m.append(list())\n",
    "  for j in range(len(V_ver[0])):\n",
    "    V_ver_m[i].append(float())\n",
    "    V_med_m[i].append(float())\n",
    "    ecal_m[i].append(float())\n",
    "\n",
    "    V_ver_m[i][j] = st.mean(V_ver[i][j])\n",
    "    V_med_m[i][j] = st.mean(V_med[i][j])\n",
    "    ecal_m[i][j] = V_med_m[i][j] - V_ver_m[i][j]\n",
    "\n",
    "print(V_med[0][0])\n",
    "\n",
    "print(f\"\"\"\n",
    "Tension de fuente 0.1V\n",
    "  escala 200mV\n",
    "    medido:{V_med_m[0][0]}\n",
    "    verdadero:{V_ver_m[0][0]}\n",
    "    ecal_m:{ecal_m[0][0]}\n",
    "  escala 2V\n",
    "    medido:{V_med_m[0][1]}\n",
    "    verdadero:{V_ver_m[0][1]}\n",
    "    ecal_m:{ecal_m[0][1]}\n",
    "\n",
    "Tension de fuente 1V\n",
    "  escala 2V\n",
    "    medido:{V_med_m[1][0]}\n",
    "    verdadero:{V_ver_m[1][0]}\n",
    "    ecal_m:{ecal_m[1][0]}\n",
    "  escala 20V\n",
    "    medido:{V_med_m[1][1]}\n",
    "    verdadero:{V_ver_m[1][1]}\n",
    "    ecal_m:{ecal_m[1][1]}\n",
    "\n",
    "Tension de fuente 9V\n",
    "  escala 20V\n",
    "    medido:{V_med_m[2][0]}\n",
    "    verdadero:{V_ver_m[2][0]}\n",
    "    ecal_m:{ecal_m[2][0]}\n",
    "  escala 200V\n",
    "    medido:{V_med_m[2][1]}\n",
    "    verdadero:{V_ver_m[2][1]}\n",
    "    ecal_m:{ecal_m[2][1]}\n",
    "\n",
    "Tension de fuente 24V\n",
    "  escala 200V\n",
    "    medido:{V_med_m[3][0]}\n",
    "    verdadero:{V_ver_m[3][0]}\n",
    "    ecal_m:{ecal_m[3][0]}\n",
    "  escala 600V\n",
    "    medido:{V_med_m[3][1]}\n",
    "    verdadero:{V_ver_m[3][1]}\n",
    "    ecal_m:{ecal_m[3][1]}\n",
    "\"\"\")\n",
    "#for i in range()\n",
    "#V_ver_m[0][0] = st.mean(V_ver)\n",
    "#V_med_m = st.mean(V_med)\n",
    "#ecal_m = V_med_m - V_ver_m\n",
    "#print(f'V_ver_m: {V_ver_m}\\nV_med_m: {V_med_m}\\necal_m: {ecal_m}')\n"
   ]
  },
  {
   "cell_type": "markdown",
   "metadata": {
    "id": "tQe8081jvCJb"
   },
   "source": [
    "## Incertidumbres de tipo A"
   ]
  },
  {
   "cell_type": "code",
   "execution_count": 7,
   "metadata": {
    "colab": {
     "base_uri": "https://localhost:8080/"
    },
    "id": "foWj8QUlwTuw",
    "outputId": "d24e5a2e-3cf0-4c2d-a7af-09e7bd9f5a7b"
   },
   "outputs": [
    {
     "name": "stdout",
     "output_type": "stream",
     "text": [
      "\n",
      "Tension de fuente 0.1V\n",
      "  escala 200mV\n",
      "    medido:2.449489742783248e-05\n",
      "    verdadero:8.366600265341658e-06\n",
      "  escala 2V\n",
      "    medido:0.0\n",
      "    verdadero:0.00010356640381899931\n",
      "\n",
      "Tension de fuente 1V\n",
      "  escala 2V\n",
      "    medido:0.0003741657386773885\n",
      "    verdadero:0.0004136496101774967\n",
      "  escala 20V\n",
      "    medido:0.002000000000000002\n",
      "    verdadero:1.356465996625428e-05\n",
      "\n",
      "Tension de fuente 9V\n",
      "  escala 20V\n",
      "    medido:0.0027688746209726324\n",
      "    verdadero:0.0010008274354531077\n",
      "  escala 200V\n",
      "    medido:0.0\n",
      "    verdadero:9.780933834082629e-05\n",
      "\n",
      "Tension de fuente 24V\n",
      "  escala 200V\n",
      "    medido:0.0\n",
      "    verdadero:0.0004140048308895222\n",
      "  escala 600V\n",
      "    medido:0.0\n",
      "    verdadero:3.741657386765221e-05\n",
      "\n"
     ]
    }
   ],
   "source": [
    "uA_V_ver=list(list())\n",
    "uA_V_med=list(list())\n",
    "\n",
    "for i in range(len(V_ver)):\n",
    "  uA_V_ver.append(list())\n",
    "  uA_V_med.append(list())\n",
    "  for j in range(len(V_ver[0])):\n",
    "    uA_V_ver[i].append(float())\n",
    "    uA_V_med[i].append(float())\n",
    "\n",
    "    uA_V_ver[i][j] = incertidumbre_A(V_ver[i][j])\n",
    "    uA_V_med[i][j] = incertidumbre_A(V_med[i][j])\n",
    "\n",
    "print(f\"\"\"\n",
    "Tension de fuente 0.1V\n",
    "  escala 200mV\n",
    "    medido:{uA_V_med[0][0]}\n",
    "    verdadero:{uA_V_ver[0][0]}\n",
    "  escala 2V\n",
    "    medido:{uA_V_med[0][1]}\n",
    "    verdadero:{uA_V_ver[0][1]}\n",
    "\n",
    "Tension de fuente 1V\n",
    "  escala 2V\n",
    "    medido:{uA_V_med[1][0]}\n",
    "    verdadero:{uA_V_ver[1][0]}\n",
    "  escala 20V\n",
    "    medido:{uA_V_med[1][1]}\n",
    "    verdadero:{uA_V_ver[1][1]}\n",
    "\n",
    "Tension de fuente 9V\n",
    "  escala 20V\n",
    "    medido:{uA_V_med[2][0]}\n",
    "    verdadero:{uA_V_ver[2][0]}\n",
    "  escala 200V\n",
    "    medido:{uA_V_med[2][1]}\n",
    "    verdadero:{uA_V_ver[2][1]}\n",
    "\n",
    "Tension de fuente 24V\n",
    "  escala 200V\n",
    "    medido:{uA_V_med[3][0]}\n",
    "    verdadero:{uA_V_ver[3][0]}\n",
    "  escala 600V\n",
    "    medido:{uA_V_med[3][1]}\n",
    "    verdadero:{uA_V_ver[3][1]}\n",
    "\"\"\")\n"
   ]
  },
  {
   "cell_type": "markdown",
   "metadata": {
    "id": "JiHSuPErxfvI"
   },
   "source": [
    "## Incertidumbres de tipo B"
   ]
  },
  {
   "cell_type": "code",
   "execution_count": 8,
   "metadata": {
    "colab": {
     "base_uri": "https://localhost:8080/"
    },
    "id": "ZZ1pB0I_xqY7",
    "outputId": "c81252c5-f45a-4346-ffef-3bdc398304a0"
   },
   "outputs": [
    {
     "name": "stdout",
     "output_type": "stream",
     "text": [
      "\n",
      "Tension de fuente 0.1V\n",
      "  escala 200mV\n",
      "    medido:5.7735026918962585e-05\n",
      "    verdadero:2.2305119359764325e-05\n",
      "  escala 2V\n",
      "    medido:0.0005773502691896258\n",
      "    verdadero:2.2196866597851434e-05\n",
      "\n",
      "Tension de fuente 1V\n",
      "  escala 2V\n",
      "    medido:0.0005773502691896258\n",
      "    verdadero:0.00011928160239435644\n",
      "  escala 20V\n",
      "    medido:0.005773502691896258\n",
      "    verdadero:0.00011855021486571614\n",
      "\n",
      "Tension de fuente 9V\n",
      "  escala 20V\n",
      "    medido:0.005773502691896258\n",
      "    verdadero:0.000952496423771561\n",
      "  escala 200V\n",
      "    medido:0.05773502691896258\n",
      "    verdadero:0.000949278966191421\n",
      "\n",
      "Tension de fuente 24V\n",
      "  escala 200V\n",
      "    medido:0.05773502691896258\n",
      "    verdadero:0.0029449276127874705\n",
      "  escala 600V\n",
      "    medido:0.13971876514388945\n",
      "    verdadero:0.0030584231230278694\n",
      "\n"
     ]
    }
   ],
   "source": [
    "#valores sacados del datasheet del tester:\n",
    "nd_ver = 2\n",
    "er_p_ver = 0.018\n",
    "\n",
    "nd_med = 3\n",
    "er_p_med = 0.5\n",
    "\n",
    "Ci_V_ver=list(list())\n",
    "Ci_V_med=list(list())\n",
    "uB_V_ver=list(list())\n",
    "uB_V_med=list(list())\n",
    "\n",
    "for i in range(len(V_ver)):\n",
    "  uB_V_ver.append(list())\n",
    "  uB_V_med.append(list())\n",
    "  Ci_V_ver.append(list())\n",
    "  Ci_V_med.append(list())\n",
    "  for j in range(len(V_ver[0])):\n",
    "    uB_V_ver[i].append(float())\n",
    "    uB_V_med[i].append(float())\n",
    "    Ci_V_ver[i].append(list())\n",
    "    Ci_V_med[i].append(list())\n",
    "\n",
    "    Ci_V_ver[i][j] = cuentas(V_ver_m[i][j], digits_ver)\n",
    "    uB_V_ver[i][j] = inecrtidumbre_B(er_p_ver, nd_ver, Ci_V_ver[i][j], V_ver_m[i][j])\n",
    "\n",
    "    Ci_V_med[i][j] = cuentas(V_med_m[i][j], digits_med)\n",
    "    # uB_V_med[i][j] = inecrtidumbre_B(er_p_med, nd_med, Ci_V_med[i][j], V_med_m[i][j])\n",
    "uB_V_med[0][0] = 0.0001/mt.sqrt(3)\n",
    "uB_V_med[0][1] = 0.001/mt.sqrt(3)\n",
    "uB_V_med[1][0] = 0.001/mt.sqrt(3)\n",
    "uB_V_med[1][1] = 0.01/mt.sqrt(3)\n",
    "uB_V_med[2][0] = 0.01/mt.sqrt(3)\n",
    "uB_V_med[2][1] = 0.1/mt.sqrt(3)\n",
    "uB_V_med[3][0] = 0.1/mt.sqrt(3)\n",
    "uB_V_med[3][1] = 1/mt.sqrt(3)\n",
    "\n",
    "\n",
    "# Para las mediciones con la fuente en 24V, el patron se puso en escala 30V y podemos\n",
    "# ver en las dos imagenes al principio que para esta escala cambian estos parametros \n",
    "uB_V_ver[3][0] = inecrtidumbre_B(er_p = 0.02, nd = 3, Ci = Ci_V_ver[3][0], Xm = V_ver_m[3][0])\n",
    "uB_V_ver[3][1] = inecrtidumbre_B(er_p = 0.02, nd = 3, Ci = Ci_V_ver[3][1], Xm = V_ver_m[3][1])\n",
    "\n",
    "# para la escala de 600V cambian los parametros del tester\n",
    "uB_V_med[3][1] = inecrtidumbre_B(er_p = 0.8, nd = 5, Ci = Ci_V_med[i][j], Xm = V_med_m[i][j])\n",
    "\n",
    "print(f\"\"\"\n",
    "Tension de fuente 0.1V\n",
    "  escala 200mV\n",
    "    medido:{uB_V_med[0][0]}\n",
    "    verdadero:{uB_V_ver[0][0]}\n",
    "  escala 2V\n",
    "    medido:{uB_V_med[0][1]}\n",
    "    verdadero:{uB_V_ver[0][1]}\n",
    "\n",
    "Tension de fuente 1V\n",
    "  escala 2V\n",
    "    medido:{uB_V_med[1][0]}\n",
    "    verdadero:{uB_V_ver[1][0]}\n",
    "  escala 20V\n",
    "    medido:{uB_V_med[1][1]}\n",
    "    verdadero:{uB_V_ver[1][1]}\n",
    "\n",
    "Tension de fuente 9V\n",
    "  escala 20V\n",
    "    medido:{uB_V_med[2][0]}\n",
    "    verdadero:{uB_V_ver[2][0]}\n",
    "  escala 200V\n",
    "    medido:{uB_V_med[2][1]}\n",
    "    verdadero:{uB_V_ver[2][1]}\n",
    "\n",
    "Tension de fuente 24V\n",
    "  escala 200V\n",
    "    medido:{uB_V_med[3][0]}\n",
    "    verdadero:{uB_V_ver[3][0]}\n",
    "  escala 600V\n",
    "    medido:{uB_V_med[3][1]}\n",
    "    verdadero:{uB_V_ver[3][1]}\n",
    "\"\"\")"
   ]
  },
  {
   "cell_type": "markdown",
   "metadata": {
    "id": "NBoV5GEQo9T4"
   },
   "source": [
    "## Incertidumbre total de cada magnitud"
   ]
  },
  {
   "cell_type": "code",
   "execution_count": 9,
   "metadata": {
    "colab": {
     "base_uri": "https://localhost:8080/"
    },
    "id": "fGvdNl1Go-Te",
    "outputId": "fa447186-be1f-4364-d8f1-275d0370fd3d"
   },
   "outputs": [
    {
     "name": "stdout",
     "output_type": "stream",
     "text": [
      "\n",
      "Tension de fuente 0.1V\n",
      "  escala 200mV\n",
      "    medido:6.271629240742287e-05\n",
      "    verdadero:2.382264363275723e-05\n",
      "  escala 2V\n",
      "    medido:0.0005773502691896258\n",
      "    verdadero:0.00010591836897707048\n",
      "\n",
      "Tension de fuente 1V\n",
      "  escala 2V\n",
      "    medido:0.00068799224801834\n",
      "    verdadero:0.0004305044722993715\n",
      "  escala 20V\n",
      "    medido:0.006110100926607787\n",
      "    verdadero:0.00011932373378631582\n",
      "\n",
      "Tension de fuente 9V\n",
      "  escala 20V\n",
      "    medido:0.006403124237432823\n",
      "    verdadero:0.001381631279630444\n",
      "  escala 200V\n",
      "    medido:0.05773502691896258\n",
      "    verdadero:0.0009543045752379705\n",
      "\n",
      "Tension de fuente 24V\n",
      "  escala 200V\n",
      "    medido:0.05773502691896258\n",
      "    verdadero:0.0029738861182900017\n",
      "  escala 600V\n",
      "    medido:0.13971876514388945\n",
      "    verdadero:0.003058651990578781\n",
      "\n"
     ]
    }
   ],
   "source": [
    "uc_V_ver=list(list())\n",
    "uc_V_med=list(list())\n",
    "\n",
    "for i in range(len(V_ver)):\n",
    "  uc_V_ver.append(list())\n",
    "  uc_V_med.append(list())\n",
    "  for j in range(len(V_ver[0])):\n",
    "    uc_V_ver[i].append(float())\n",
    "    uc_V_med[i].append(float())\n",
    "\n",
    "    uc_V_ver[i][j] = incertidumbre_total_A_B(uA_V_ver[i][j], uB_V_ver[i][j])\n",
    "    uc_V_med[i][j] = incertidumbre_total_A_B(uA_V_med[i][j], uB_V_med[i][j])\n",
    "\n",
    "print(f\"\"\"\n",
    "Tension de fuente 0.1V\n",
    "  escala 200mV\n",
    "    medido:{uc_V_med[0][0]}\n",
    "    verdadero:{uc_V_ver[0][0]}\n",
    "  escala 2V\n",
    "    medido:{uc_V_med[0][1]}\n",
    "    verdadero:{uc_V_ver[0][1]}\n",
    "\n",
    "Tension de fuente 1V\n",
    "  escala 2V\n",
    "    medido:{uc_V_med[1][0]}\n",
    "    verdadero:{uc_V_ver[1][0]}\n",
    "  escala 20V\n",
    "    medido:{uc_V_med[1][1]}\n",
    "    verdadero:{uc_V_ver[1][1]}\n",
    "\n",
    "Tension de fuente 9V\n",
    "  escala 20V\n",
    "    medido:{uc_V_med[2][0]}\n",
    "    verdadero:{uc_V_ver[2][0]}\n",
    "  escala 200V\n",
    "    medido:{uc_V_med[2][1]}\n",
    "    verdadero:{uc_V_ver[2][1]}\n",
    "\n",
    "Tension de fuente 24V\n",
    "  escala 200V\n",
    "    medido:{uc_V_med[3][0]}\n",
    "    verdadero:{uc_V_ver[3][0]}\n",
    "  escala 600V\n",
    "    medido:{uc_V_med[3][1]}\n",
    "    verdadero:{uc_V_ver[3][1]}\n",
    "\"\"\")"
   ]
  },
  {
   "cell_type": "markdown",
   "metadata": {
    "id": "I0pfQAYZRnPX"
   },
   "source": [
    "## Incertidumbre de punto calibrado"
   ]
  },
  {
   "cell_type": "code",
   "execution_count": 14,
   "metadata": {
    "colab": {
     "base_uri": "https://localhost:8080/"
    },
    "id": "XiwIQTdwRron",
    "outputId": "2012d5e7-d642-434c-ffed-d97f2935d3fa"
   },
   "outputs": [
    {
     "name": "stdout",
     "output_type": "stream",
     "text": [
      "\n",
      "Tension de fuente 0.1V\n",
      "  escala 200mV\n",
      "    medido:3.416896764102455e-05\n",
      "  escala 2V\n",
      "    medido:0.00010591836897707048\n",
      "\n",
      "Tension de fuente 1V\n",
      "  escala 2V\n",
      "    medido:0.0005703806629521692\n",
      "  escala 20V\n",
      "    medido:0.0020035563764078906\n",
      "\n",
      "Tension de fuente 9V\n",
      "  escala 20V\n",
      "    medido:0.003094442059486588\n",
      "  escala 200V\n",
      "    medido:0.0009543045752379705\n",
      "\n",
      "Tension de fuente 24V\n",
      "  escala 200V\n",
      "    medido:0.0029738861182900017\n",
      "  escala 600V\n",
      "    medido:0.003058651990578781\n",
      "\n"
     ]
    }
   ],
   "source": [
    "uVc=list(list())\n",
    "\n",
    "for i in range(len(V_ver)):\n",
    "  uVc.append(list())\n",
    "  for j in range(len(V_ver[0])):\n",
    "    uVc[i].append(float())\n",
    "\n",
    "    uVc[i][j] = incertidumbre_Vc((uA_V_ver[i][j]),(uB_V_ver[i][j]),(uA_V_med[i][j]))\n",
    "\n",
    "print(f\"\"\"\n",
    "Tension de fuente 0.1V\n",
    "  escala 200mV\n",
    "    medido:{uVc[0][0]}\n",
    "  escala 2V\n",
    "    medido:{uVc[0][1]}\n",
    "\n",
    "Tension de fuente 1V\n",
    "  escala 2V\n",
    "    medido:{uVc[1][0]}\n",
    "  escala 20V\n",
    "    medido:{uVc[1][1]}\n",
    "\n",
    "Tension de fuente 9V\n",
    "  escala 20V\n",
    "    medido:{uVc[2][0]}\n",
    "  escala 200V\n",
    "    medido:{uVc[2][1]}\n",
    "\n",
    "Tension de fuente 24V\n",
    "  escala 200V\n",
    "    medido:{uVc[3][0]}\n",
    "  escala 600V\n",
    "    medido:{uVc[3][1]}\n",
    "\"\"\")\n"
   ]
  },
  {
   "cell_type": "code",
   "execution_count": 15,
   "metadata": {},
   "outputs": [
    {
     "name": "stdout",
     "output_type": "stream",
     "text": [
      "\n",
      "Tension de fuente 0.1V\n",
      "  escala 200mV\n",
      "    medido:6.708838709483719e-05\n",
      "  escala 2V\n",
      "    medido:0.0005869855485615436\n",
      "\n",
      "Tension de fuente 1V\n",
      "  escala 2V\n",
      "    medido:0.0008115832883956454\n",
      "  escala 20V\n",
      "    medido:0.006111265947966759\n",
      "\n",
      "Tension de fuente 9V\n",
      "  escala 20V\n",
      "    medido:0.0065504889125051514\n",
      "  escala 200V\n",
      "    medido:0.05774291324964176\n",
      "\n",
      "Tension de fuente 24V\n",
      "  escala 200V\n",
      "    medido:0.05781156745823358\n",
      "  escala 600V\n",
      "    medido:0.13975224035890377\n",
      "\n"
     ]
    }
   ],
   "source": [
    "uc_ecal=list(list())\n",
    "\n",
    "for i in range(len(V_ver)):\n",
    "  uc_ecal.append(list())\n",
    "  for j in range(len(V_ver[0])):\n",
    "    uc_ecal[i].append(float())\n",
    "\n",
    "    uc_ecal[i][j] = mt.sqrt((uc_V_ver[i][j])**2 + (uc_V_med[i][j])**2)\n",
    "\n",
    "print(f\"\"\"\n",
    "Tension de fuente 0.1V\n",
    "  escala 200mV\n",
    "    medido:{uc_ecal[0][0]}\n",
    "  escala 2V\n",
    "    medido:{uc_ecal[0][1]}\n",
    "\n",
    "Tension de fuente 1V\n",
    "  escala 2V\n",
    "    medido:{uc_ecal[1][0]}\n",
    "  escala 20V\n",
    "    medido:{uc_ecal[1][1]}\n",
    "\n",
    "Tension de fuente 9V\n",
    "  escala 20V\n",
    "    medido:{uc_ecal[2][0]}\n",
    "  escala 200V\n",
    "    medido:{uc_ecal[2][1]}\n",
    "\n",
    "Tension de fuente 24V\n",
    "  escala 200V\n",
    "    medido:{uc_ecal[3][0]}\n",
    "  escala 600V\n",
    "    medido:{uc_ecal[3][1]}\n",
    "\"\"\")\n"
   ]
  },
  {
   "cell_type": "markdown",
   "metadata": {
    "id": "Oy9z7CfSD66W"
   },
   "source": [
    "## Factor de expansion\n",
    "\n",
    "Al tener como minimo 5 mediciones de cada magnitud, aproximamos y tomamos un k95 = 2"
   ]
  },
  {
   "cell_type": "code",
   "execution_count": 18,
   "metadata": {
    "id": "WpUznwd5OQGv"
   },
   "outputs": [],
   "source": [
    "k95 = 2 # aproximamos un k=2 ya que en todos los casos se hicieron varias mediciones"
   ]
  },
  {
   "cell_type": "markdown",
   "metadata": {
    "id": "jMvdFWy-N-O_"
   },
   "source": [
    "## Incertidumbre expandida"
   ]
  },
  {
   "cell_type": "code",
   "execution_count": 19,
   "metadata": {},
   "outputs": [
    {
     "name": "stdout",
     "output_type": "stream",
     "text": [
      "\n",
      "Tension de fuente 0.1V\n",
      "  escala 200mV\n",
      "    medido:6.83379352820491e-05\n",
      "  escala 2V\n",
      "    medido:0.00021183673795414096\n",
      "\n",
      "Tension de fuente 1V\n",
      "  escala 2V\n",
      "    medido:0.0011407613259043384\n",
      "  escala 20V\n",
      "    medido:0.004007112752815781\n",
      "\n",
      "Tension de fuente 9V\n",
      "  escala 20V\n",
      "    medido:0.006188884118973176\n",
      "  escala 200V\n",
      "    medido:0.001908609150475941\n",
      "\n",
      "Tension de fuente 24V\n",
      "  escala 200V\n",
      "    medido:0.0059477722365800035\n",
      "  escala 600V\n",
      "    medido:0.006117303981157562\n",
      "\n"
     ]
    }
   ],
   "source": [
    "UVc=list(list())\n",
    "\n",
    "for i in range(len(V_ver)):\n",
    "  UVc.append(list())\n",
    "  for j in range(len(V_ver[0])):\n",
    "    UVc[i].append(float())\n",
    "\n",
    "    UVc[i][j] = (uVc[i][j])*k95\n",
    "\n",
    "print(f\"\"\"\n",
    "Tension de fuente 0.1V\n",
    "  escala 200mV\n",
    "    medido:{UVc[0][0]}\n",
    "  escala 2V\n",
    "    medido:{UVc[0][1]}\n",
    "\n",
    "Tension de fuente 1V\n",
    "  escala 2V\n",
    "    medido:{UVc[1][0]}\n",
    "  escala 20V\n",
    "    medido:{UVc[1][1]}\n",
    "\n",
    "Tension de fuente 9V\n",
    "  escala 20V\n",
    "    medido:{UVc[2][0]}\n",
    "  escala 200V\n",
    "    medido:{UVc[2][1]}\n",
    "\n",
    "Tension de fuente 24V\n",
    "  escala 200V\n",
    "    medido:{UVc[3][0]}\n",
    "  escala 600V\n",
    "    medido:{UVc[3][1]}\n",
    "\"\"\")\n"
   ]
  },
  {
   "cell_type": "code",
   "execution_count": 57,
   "metadata": {
    "colab": {
     "base_uri": "https://localhost:8080/"
    },
    "id": "7FMwMMrlOJM0",
    "outputId": "da04e54f-bee0-4cc2-ae73-575dcd0d9821",
    "scrolled": false
   },
   "outputs": [
    {
     "name": "stdout",
     "output_type": "stream",
     "text": [
      "\n",
      "Tension de fuente 0.1V\n",
      "  escala 200mV\n",
      "    medido:0.00013417677418967437\n",
      "  escala 2V\n",
      "    medido:0.0011739710971230871\n",
      "\n",
      "Tension de fuente 1V\n",
      "  escala 2V\n",
      "    medido:0.0016231665767912908\n",
      "  escala 20V\n",
      "    medido:0.012222531895933518\n",
      "\n",
      "Tension de fuente 9V\n",
      "  escala 20V\n",
      "    medido:0.013100977825010303\n",
      "  escala 200V\n",
      "    medido:0.11548582649928352\n",
      "\n",
      "Tension de fuente 24V\n",
      "  escala 200V\n",
      "    medido:0.11562313491646715\n",
      "  escala 600V\n",
      "    medido:0.27950448071780754\n",
      "\n"
     ]
    }
   ],
   "source": [
    "Uc_ecal=list(list())\n",
    "\n",
    "for i in range(len(V_ver)):\n",
    "  Uc_ecal.append(list())\n",
    "  for j in range(len(V_ver[0])):\n",
    "    Uc_ecal[i].append(float())\n",
    "\n",
    "    Uc_ecal[i][j] = (uc_ecal[i][j])*k95\n",
    "\n",
    "print(f\"\"\"\n",
    "Tension de fuente 0.1V\n",
    "  escala 200mV\n",
    "    medido:{Uc_ecal[0][0]}\n",
    "  escala 2V\n",
    "    medido:{Uc_ecal[0][1]}\n",
    "\n",
    "Tension de fuente 1V\n",
    "  escala 2V\n",
    "    medido:{Uc_ecal[1][0]}\n",
    "  escala 20V\n",
    "    medido:{Uc_ecal[1][1]}\n",
    "\n",
    "Tension de fuente 9V\n",
    "  escala 20V\n",
    "    medido:{Uc_ecal[2][0]}\n",
    "  escala 200V\n",
    "    medido:{Uc_ecal[2][1]}\n",
    "\n",
    "Tension de fuente 24V\n",
    "  escala 200V\n",
    "    medido:{Uc_ecal[3][0]}\n",
    "  escala 600V\n",
    "    medido:{Uc_ecal[3][1]}\n",
    "\"\"\")\n"
   ]
  },
  {
   "cell_type": "markdown",
   "metadata": {},
   "source": [
    "## Punto calibrado"
   ]
  },
  {
   "cell_type": "code",
   "execution_count": 23,
   "metadata": {},
   "outputs": [
    {
     "name": "stdout",
     "output_type": "stream",
     "text": [
      "\n",
      "Tension de fuente 0.1V\n",
      "  escala 200mV\n",
      "    Vc=0.10352+-6.83379352820491e-05 V\n",
      "  escala 2V\n",
      "    Vc=0.102474+-0.00021183673795414096 V\n",
      "\n",
      "Tension de fuente 1V\n",
      "  escala 2V\n",
      "    Vc=1.036676+-0.0011407613259043384 V\n",
      "  escala 20V\n",
      "    Vc=1.029638+-0.004007112752815781 V\n",
      "\n",
      "Tension de fuente 9V\n",
      "  escala 20V\n",
      "    Vc=9.05429+-0.006188884118973176 V\n",
      "  escala 200V\n",
      "    Vc=9.02333+-0.001908609150475941 V\n",
      "\n",
      "Tension de fuente 24V\n",
      "  escala 200V\n",
      "    Vc=24.00382+-0.0059477722365800035 V\n",
      "  escala 600V\n",
      "    Vc=24.98672+-0.006117303981157562 V\n",
      "\n"
     ]
    }
   ],
   "source": [
    "print(f\"\"\"\n",
    "Tension de fuente 0.1V\n",
    "  escala 200mV\n",
    "    Vc={V_ver_m[0][0]}+-{UVc[0][0]} V\n",
    "  escala 2V\n",
    "    Vc={V_ver_m[0][1]}+-{UVc[0][1]} V\n",
    "\n",
    "Tension de fuente 1V\n",
    "  escala 2V\n",
    "    Vc={V_ver_m[1][0]}+-{UVc[1][0]} V\n",
    "  escala 20V\n",
    "    Vc={V_ver_m[1][1]}+-{UVc[1][1]} V\n",
    "\n",
    "Tension de fuente 9V\n",
    "  escala 20V\n",
    "    Vc={V_ver_m[2][0]}+-{UVc[2][0]} V\n",
    "  escala 200V\n",
    "    Vc={V_ver_m[2][1]}+-{UVc[2][1]} V\n",
    "\n",
    "Tension de fuente 24V\n",
    "  escala 200V\n",
    "    Vc={V_ver_m[3][0]}+-{UVc[3][0]} V\n",
    "  escala 600V\n",
    "    Vc={V_ver_m[3][1]}+-{UVc[3][1]} V\n",
    "\"\"\")\n"
   ]
  },
  {
   "cell_type": "markdown",
   "metadata": {
    "id": "9Wi9THOqVWMa"
   },
   "source": [
    "## verificacion calibracion\n",
    "\n",
    "Para que la calibracion sea aceptabe, |ecal_m|+Uc_ecal <= deltaV"
   ]
  },
  {
   "cell_type": "code",
   "execution_count": 58,
   "metadata": {
    "colab": {
     "base_uri": "https://localhost:8080/"
    },
    "id": "fkjcVjQ0Vh6O",
    "outputId": "972d50f5-b868-45da-88fd-1e1a176cbb8b"
   },
   "outputs": [
    {
     "name": "stdout",
     "output_type": "stream",
     "text": [
      "suma: 0.0004741767741896813  delta: 0.0035443485436893207\n",
      "suma: 0.0016479710971230893  delta: 0.0035099999999999997\n",
      "suma: 0.0031471665767913715  delta: 0.00819157803468208\n",
      "suma: 0.013860531895933547  delta: 0.008140000000000001\n",
      "suma: 0.029810977825010083  delta: 0.048355\n",
      "suma: 0.18215582649928375  delta: 0.04845\n",
      "suma: 0.1194431349164682  delta: 0.15000000000000002\n",
      "suma: 1.2662244807178058  delta: 0.15000000000000002\n",
      "\n",
      "Tension de fuente 0.1V\n",
      "  escala 200mV: SI Verifica calibracion\n",
      "  escala 2V: SI Verifica calibracion\n",
      "\n",
      "Tension de fuente 1V\n",
      "  escala 2V: SI Verifica calibracion\n",
      "  escala 20V: NO Verifica calibracion\n",
      "\n",
      "Tension de fuente 9V\n",
      "  escala 20V: SI Verifica calibracion\n",
      "  escala 200V: NO Verifica calibracion\n",
      "\n",
      "Tension de fuente 24V\n",
      "  escala 200V: SI Verifica calibracion\n",
      "  escala 600V: NO Verifica calibracion\n",
      "\n"
     ]
    }
   ],
   "source": [
    "delta_V=list(list())\n",
    "suma=list(list())\n",
    "verificacion=list(list())\n",
    "\n",
    "for i in range(len(V_ver)):\n",
    "  delta_V.append(list())\n",
    "  suma.append(list())\n",
    "  verificacion.append(list())\n",
    "  for j in range(len(V_ver[0])):\n",
    "    delta_V[i].append(float())\n",
    "    suma[i].append(float())\n",
    "    verificacion[i].append(str())\n",
    "\n",
    "    delta_V[i][j] = (V_med_m[i][j]) * ( (er_p_med/100)+(nd_med/Ci_V_med[i][j]) )\n",
    "    suma[i][j] = abs(ecal_m[i][j])+ Uc_ecal[i][j]\n",
    "    print(f'suma: {suma[i][j]}  delta: {delta_V[i][j]}')\n",
    "    if suma[i][j] <= delta_V[i][j]: verificacion[i][j] = 'SI Verifica calibracion'\n",
    "    else: verificacion[i][j] = 'NO Verifica calibracion'\n",
    "\n",
    "\n",
    "print(f\"\"\"\n",
    "Tension de fuente 0.1V\n",
    "  escala 200mV: {verificacion[0][0]}\n",
    "  escala 2V: {verificacion[0][1]}\n",
    "\n",
    "Tension de fuente 1V\n",
    "  escala 2V: {verificacion[1][0]}\n",
    "  escala 20V: {verificacion[1][1]}\n",
    "\n",
    "Tension de fuente 9V\n",
    "  escala 20V: {verificacion[2][0]}\n",
    "  escala 200V: {verificacion[2][1]}\n",
    "\n",
    "Tension de fuente 24V\n",
    "  escala 200V: {verificacion[3][0]}\n",
    "  escala 600V: {verificacion[3][1]}\n",
    "\"\"\")\n",
    "\n"
   ]
  },
  {
   "cell_type": "markdown",
   "metadata": {
    "id": "vtxof5cjuNsd"
   },
   "source": [
    "# **CORRIENTE**"
   ]
  },
  {
   "cell_type": "markdown",
   "metadata": {
    "id": "LWHw91nq2hsq"
   },
   "source": [
    "## instrumentacion\n",
    "\n"
   ]
  },
  {
   "cell_type": "markdown",
   "metadata": {
    "id": "o3-qGHW72qHm"
   },
   "source": [
    "*Tester usado: DT380B*\n",
    "\n",
    "<img src=\"https://github.com/brunoricciotti/ME1/blob/main/LABORATORIO/LABORATORIO_1/img/error_DT380B.png?raw=true:, width=100\" alt=\"My Image\" width=500>\n",
    "\n",
    "https://www.viaindustrial.com/manuales_pdf/multimetro-digital-economico-basico-96830-dt830-b-ebchq-manual-espanol.pdf\n",
    "\n",
    "Patron HP 3468b\n",
    "\n",
    "https://xdevs.com/doc/HP_Agilent_Keysight/HP%203468A,%20B%20Operating.pdf\n",
    "\n",
    "<img src=\"https://github.com/brunoricciotti/ME1/blob/main/LABORATORIO/LABORATORIO_1/img/error_HP3468B.png?raw=true:, width=100\" alt=\"My Image\" width=500>"
   ]
  },
  {
   "cell_type": "markdown",
   "metadata": {
    "id": "6K5ohULNAQmT"
   },
   "source": [
    "## Procedimiento específico de la medición:\n",
    "Utilizamos una fuente generadora de corriente, a la cual se le dieron distintos valores de corriente para vertificar. En nuestro caso generaron corrientes de 100uA, 1.5mA y 6.75mA.\n",
    "\n",
    "Cada una de estas corrientes fue medida usando 2 amperimetros en serie. Uno era el amperimetro patron y el otro era el generico. A su vez por cada valor de corriente se usaron 2 escalas distintas en el amperimetro generico, y por cada escala se tomaron 5 valores de cada amperimetro.\n",
    "\n",
    "A partir de las valores obtenidos se calculan las incertidumbres, y se determina si se verifica la calibracion."
   ]
  },
  {
   "cell_type": "markdown",
   "metadata": {
    "id": "2xTaJ-8hhbML"
   },
   "source": [
    "## **Escala: 2000uA**\n",
    "## **Fuente: 100uA**"
   ]
  },
  {
   "cell_type": "code",
   "execution_count": 19,
   "metadata": {
    "colab": {
     "base_uri": "https://localhost:8080/"
    },
    "id": "f--z9DhZh-5l",
    "outputId": "bc6d893b-251f-40c4-aaac-9c15970e5b8c"
   },
   "outputs": [
    {
     "name": "stdout",
     "output_type": "stream",
     "text": [
      "V_ver_m: 9.6e-05\n",
      "V_med_m: 0.0001146\n",
      "ecal_m: 1.859999999999999e-05\n"
     ]
    }
   ],
   "source": [
    "V_ver = [0.00010,0.00010,0.00010,0.00009,0.00009]\n",
    "V_med = [114,115,115,114,115]#uA\n",
    "V_ver_m = st.mean(V_ver)\n",
    "V_med_m = st.mean(V_med)\n",
    "ecal_m = V_med_m*uA - V_ver_m\n",
    "print(f'V_ver_m: {V_ver_m}\\nV_med_m: {V_med_m*uA}\\necal_m: {ecal_m}')"
   ]
  },
  {
   "cell_type": "markdown",
   "metadata": {
    "id": "ethtCWYlphc8"
   },
   "source": [
    "### Incertidumbres de tipo A"
   ]
  },
  {
   "cell_type": "code",
   "execution_count": 20,
   "metadata": {
    "colab": {
     "base_uri": "https://localhost:8080/"
    },
    "id": "y_72BKqjpiXP",
    "outputId": "7f47405b-6624-4f00-c44e-5bea290a5bfb"
   },
   "outputs": [
    {
     "name": "stdout",
     "output_type": "stream",
     "text": [
      "Incertidumbre tipo A\n",
      "uA_V_ver: 2.4494897427831775e-06\n",
      "uA_V_med: 2.449489742783171e-07\n"
     ]
    }
   ],
   "source": [
    "V_med_uA = list(map(lambda x: x*uA, V_med))#paso de uA a Ampere\n",
    "\n",
    "uA_V_ver = incertidumbre_A(V_ver)\n",
    "uA_V_med = incertidumbre_A(V_med_uA)\n",
    "print(f'Incertidumbre tipo A\\nuA_V_ver: {uA_V_ver}\\nuA_V_med: {uA_V_med}')"
   ]
  },
  {
   "cell_type": "markdown",
   "metadata": {
    "id": "aglt_uWosuxl"
   },
   "source": [
    "### Incertidumbres de tipo B\n",
    "\n",
    "\n",
    "Al calcular las cuentas ci para ambas mediciones, vemos que en **este caso en particular** todas las medidiones obtenidas con nuestro tester son de 3 digitos no decimales. Por eso no es necesario multiplicar por ningun numero para obtener las ci. Para el valor medio patron, como tiene 5 decimales lo multiplicamos por 100000,y al hacer int() los numeros decimamles se truncan. Asi obtenemos las ci.\n",
    "\n",
    "**(el mismo proceso se repetira para las otras mediciones)**"
   ]
  },
  {
   "cell_type": "code",
   "execution_count": 21,
   "metadata": {
    "colab": {
     "base_uri": "https://localhost:8080/"
    },
    "id": "BOFo0Jd0s1c5",
    "outputId": "9f4b977f-70af-4542-8e7e-a1010ed75612"
   },
   "outputs": [
    {
     "name": "stdout",
     "output_type": "stream",
     "text": [
      "Incertidumbre tipo B\n",
      "uB_V_ver: 3.70446407920678e-05\n",
      "uB_V_med: 2.886751345948129e-07\n"
     ]
    }
   ],
   "source": [
    "#valores sacados del datasheet del tester:\n",
    "nd_ver = 6\n",
    "er_p_ver = 0.17\n",
    "Ci_V_ver = int(V_ver_m*100000) #son 6 digitos, y V_ver_m esta con 5 decimales\n",
    "\n",
    "nd_med = 2\n",
    "er_p_med = 1\n",
    "Ci_V_med = int(V_med_m*1) #son 3 digitos, y V_med_m esta en uA sin decimales\n",
    "\n",
    "uB_V_ver = inecrtidumbre_B(er_p_ver, nd_ver, Ci_V_ver, V_ver_m)\n",
    "uB_V_med = (res[0]/2)/np.sqrt(3)\n",
    "print(f'Incertidumbre tipo B\\nuB_V_ver: {uB_V_ver}\\nuB_V_med: {uB_V_med}')"
   ]
  },
  {
   "cell_type": "markdown",
   "metadata": {
    "id": "1nPNNciCx-fz"
   },
   "source": [
    "### Incertidumbre total de cada magnitud\n"
   ]
  },
  {
   "cell_type": "code",
   "execution_count": 22,
   "metadata": {
    "colab": {
     "base_uri": "https://localhost:8080/"
    },
    "id": "GYTEA3fTx_3X",
    "outputId": "036d9d31-ae91-48b4-fcf8-4aa4fa3a881c"
   },
   "outputs": [
    {
     "name": "stdout",
     "output_type": "stream",
     "text": [
      "Incertidumbre total\n",
      "uc_V_ver: 3.70446407920678e-05\n",
      "uc_V_med: 3.785938897200178e-07\n"
     ]
    }
   ],
   "source": [
    "uc_V_ver = uB_V_ver\n",
    "uc_V_med = incertidumbre_total_A_B(uA_V_med, uB_V_med)\n",
    "print(f'Incertidumbre total\\nuc_V_ver: {uc_V_ver}\\nuc_V_med: {uc_V_med}')"
   ]
  },
  {
   "cell_type": "markdown",
   "metadata": {
    "id": "djl27NsFyr_o"
   },
   "source": [
    "### Incertidumbre combinada - funcion error de calculo"
   ]
  },
  {
   "cell_type": "code",
   "execution_count": 23,
   "metadata": {
    "colab": {
     "base_uri": "https://localhost:8080/"
    },
    "id": "Ala43EPmys7K",
    "outputId": "90698667-70c4-4dfb-9fbf-52f71f33e1b2"
   },
   "outputs": [
    {
     "name": "stdout",
     "output_type": "stream",
     "text": [
      "uc_ecal: 3.704657534437788e-05\n"
     ]
    }
   ],
   "source": [
    "uc_ecal = mt.sqrt(uc_V_ver**2+uc_V_med**2)\n",
    "print(f'uc_ecal: {uc_ecal}')"
   ]
  },
  {
   "cell_type": "markdown",
   "metadata": {
    "id": "2mB1gX989dCz"
   },
   "source": [
    "### Incertidumbre expandida"
   ]
  },
  {
   "cell_type": "code",
   "execution_count": 24,
   "metadata": {
    "colab": {
     "base_uri": "https://localhost:8080/"
    },
    "id": "Yv-W0qeN9dm7",
    "outputId": "fc1f7e12-3f5b-4524-da24-4a8569cb8709"
   },
   "outputs": [
    {
     "name": "stdout",
     "output_type": "stream",
     "text": [
      "Uc_ecal: 7.409315068875575e-05\n"
     ]
    }
   ],
   "source": [
    "k95 = 2\n",
    "\n",
    "Uc_ecal = uc_ecal*k95\n",
    "print(f'Uc_ecal: {Uc_ecal}')"
   ]
  },
  {
   "cell_type": "markdown",
   "metadata": {
    "id": "Up807ux79iPM"
   },
   "source": [
    "### verificacion calibracion\n",
    "\n",
    "Para que la calibracion sea aceptabe, $|e_{cal_m}|+Uc_{ecal} <= \\Delta V$"
   ]
  },
  {
   "cell_type": "code",
   "execution_count": 25,
   "metadata": {
    "colab": {
     "base_uri": "https://localhost:8080/"
    },
    "id": "mTc7KROa-Mie",
    "outputId": "be1b807d-995a-4e74-bde8-e0da72d7c731"
   },
   "outputs": [
    {
     "name": "stdout",
     "output_type": "stream",
     "text": [
      "Uc_ecal: 7.409315068875575e-05\n",
      "delta_V: 3.1565263157894737e-06\n",
      "|ecal_m|+Uc_ecal = 7.409316928875575e-05\n",
      "\u001b[1mNO verifica calibracion\n"
     ]
    }
   ],
   "source": [
    "k95 = 2\n",
    "Uc_ecal = uc_ecal*k95\n",
    "print(f'Uc_ecal: {Uc_ecal}')\n",
    "\n",
    "delta_V = V_med_m*uA*((er_p_med/100)+(nd_med/Ci_V_med))\n",
    "print(f'delta_V: {delta_V}')\n",
    "\n",
    "suma = abs(ecal_m*uA)+ Uc_ecal\n",
    "print(f'|ecal_m|+Uc_ecal = {suma}')\n",
    "\n",
    "if suma <= delta_V: print('\\033[1m'+'Verifica calibracion')\n",
    "else: print('\\033[1m'+'NO verifica calibracion')"
   ]
  },
  {
   "cell_type": "markdown",
   "metadata": {
    "id": "g959zImQFsHZ"
   },
   "source": [
    "## **Escala: 20mA**\n",
    "## **Fuente: 100uA**"
   ]
  },
  {
   "cell_type": "code",
   "execution_count": 26,
   "metadata": {
    "colab": {
     "base_uri": "https://localhost:8080/"
    },
    "id": "RaPpmRuiFtzV",
    "outputId": "e334cd15-9bc1-48bb-8726-03a11508cf5c"
   },
   "outputs": [
    {
     "name": "stdout",
     "output_type": "stream",
     "text": [
      "V_ver_m: 9.6e-05\n",
      "V_med_m: 0.11599999999999999\n",
      "ecal_m: 1.9999999999999998e-05\n"
     ]
    }
   ],
   "source": [
    "V_ver = [0.00010,0.00010,0.00010,0.00009,0.00009]\n",
    "V_med = [0.12,0.12,0.11,0.11,0.12]#mA\n",
    "V_ver_m = st.mean(V_ver)\n",
    "V_med_m = st.mean(V_med)\n",
    "ecal_m = V_med_m*mA - V_ver_m\n",
    "print(f'V_ver_m: {V_ver_m}\\nV_med_m: {V_med_m}\\necal_m: {ecal_m}')"
   ]
  },
  {
   "cell_type": "markdown",
   "metadata": {
    "id": "6prIREzkGmBY"
   },
   "source": [
    "### Incertidumbres de tipo A"
   ]
  },
  {
   "cell_type": "code",
   "execution_count": 27,
   "metadata": {
    "colab": {
     "base_uri": "https://localhost:8080/"
    },
    "id": "yQI5OYmiGktZ",
    "outputId": "514b628a-1d78-4745-9370-0aedbfb327c3"
   },
   "outputs": [
    {
     "name": "stdout",
     "output_type": "stream",
     "text": [
      "Incertidumbre tipo A\n",
      "uA_V_ver: 2.4494897427831775e-06\n",
      "uA_V_med: 2.4494897427831775e-06\n"
     ]
    }
   ],
   "source": [
    "V_med_mA = list(map(lambda x: x*mA, V_med))#paso de mA a Ampere\n",
    "\n",
    "uA_V_ver = incertidumbre_A(V_ver)\n",
    "uA_V_med = incertidumbre_A(V_med_mA)\n",
    "print(f'Incertidumbre tipo A\\nuA_V_ver: {uA_V_ver}\\nuA_V_med: {uA_V_med}')"
   ]
  },
  {
   "cell_type": "markdown",
   "metadata": {
    "id": "atkCy1AVHFfZ"
   },
   "source": [
    "### Incertidumbres de tipo B"
   ]
  },
  {
   "cell_type": "code",
   "execution_count": 28,
   "metadata": {
    "colab": {
     "base_uri": "https://localhost:8080/"
    },
    "id": "ILo7mt5yHFza",
    "outputId": "4d154218-9b05-47de-e9d9-9629b5937261"
   },
   "outputs": [
    {
     "name": "stdout",
     "output_type": "stream",
     "text": [
      "Incertidumbre tipo B\n",
      "uB_V_ver: 3.70446407920678e-05\n",
      "uB_V_med: 2.8867513459481293e-06\n"
     ]
    }
   ],
   "source": [
    "#valores sacados del datasheet del tester:\n",
    "nd_ver = 6\n",
    "er_p_ver = 0.17\n",
    "Ci_V_ver = int(V_ver_m*100000) #son 6 digitos, y V_ver_m esta con 5 decimales\n",
    "\n",
    "nd_med = 2\n",
    "er_p_med = 1\n",
    "Ci_V_med = int(V_med_m*100) #son 3 digitos, y V_med_m esta con 2 decimales\n",
    "\n",
    "uB_V_ver = inecrtidumbre_B(er_p_ver, nd_ver, Ci_V_ver, V_ver_m)\n",
    "uB_V_med = (res[1]/2)/np.sqrt(3)\n",
    "print(f'Incertidumbre tipo B\\nuB_V_ver: {uB_V_ver}\\nuB_V_med: {uB_V_med}')"
   ]
  },
  {
   "cell_type": "markdown",
   "metadata": {
    "id": "48dO4Lj4Hks7"
   },
   "source": [
    "### Incertidumbre total de cada magnitud e incertidumbre combinada - funcion error de calculo"
   ]
  },
  {
   "cell_type": "code",
   "execution_count": 29,
   "metadata": {
    "colab": {
     "base_uri": "https://localhost:8080/"
    },
    "id": "aGlIOzf7Hk3k",
    "outputId": "a8214d7a-46a8-44fc-df89-e968ccf6296d"
   },
   "outputs": [
    {
     "name": "stdout",
     "output_type": "stream",
     "text": [
      "Incertidumbre total\n",
      "uc_V_ver: 3.70446407920678e-05\n",
      "uc_V_med: 3.7859388972001827e-06\n",
      "uc_ecal: 3.723759853624649e-05\n"
     ]
    }
   ],
   "source": [
    "uc_V_ver = uB_V_ver\n",
    "uc_V_med = incertidumbre_total_A_B(uA_V_med, uB_V_med)\n",
    "print(f'Incertidumbre total\\nuc_V_ver: {uc_V_ver}\\nuc_V_med: {uc_V_med}')\n",
    "\n",
    "uc_ecal = mt.sqrt(uc_V_ver**2+uc_V_med**2)\n",
    "print(f'uc_ecal: {uc_ecal}')"
   ]
  },
  {
   "cell_type": "markdown",
   "metadata": {
    "id": "uZkG-PTbHuiB"
   },
   "source": [
    "### verificacion calibracion"
   ]
  },
  {
   "cell_type": "code",
   "execution_count": 30,
   "metadata": {
    "colab": {
     "base_uri": "https://localhost:8080/"
    },
    "id": "BszH8IsuHuqU",
    "outputId": "d2cce09f-1655-436d-8cc3-bbe174fe3229"
   },
   "outputs": [
    {
     "name": "stdout",
     "output_type": "stream",
     "text": [
      "Uc_ecal: 7.447519707249298e-05\n",
      "delta_V: 2.2250909090909094e-05\n",
      "|ecal_m|+Uc_ecal = 7.447521707249298e-05\n",
      "\u001b[1mNO verifica calibracion\n"
     ]
    }
   ],
   "source": [
    "k95 = 2\n",
    "Uc_ecal = uc_ecal*k95\n",
    "print(f'Uc_ecal: {Uc_ecal}')\n",
    "\n",
    "delta_V = V_med_m*mA*((er_p_med/100)+(nd_med/Ci_V_med))\n",
    "print(f'delta_V: {delta_V}')\n",
    "\n",
    "suma = abs(ecal_m*uA)+ Uc_ecal\n",
    "print(f'|ecal_m|+Uc_ecal = {suma}')\n",
    "\n",
    "if suma <= delta_V: print('\\033[1m'+'Verifica calibracion')\n",
    "else: print('\\033[1m'+'NO verifica calibracion')"
   ]
  },
  {
   "cell_type": "markdown",
   "metadata": {
    "id": "oIc5sbtgL2ZS"
   },
   "source": [
    "## **Escala: 20mA**\n",
    "## **Fuente: 1,5 mA**"
   ]
  },
  {
   "cell_type": "code",
   "execution_count": 31,
   "metadata": {
    "colab": {
     "base_uri": "https://localhost:8080/"
    },
    "id": "Lfh0ztwYL5K_",
    "outputId": "f01ba55d-b226-4be4-820a-1c0df954f338"
   },
   "outputs": [
    {
     "name": "stdout",
     "output_type": "stream",
     "text": [
      "V_ver_m: 0.001486\n",
      "V_med_m: 1.506\n",
      "ecal_m: 2.0000000000000052e-05\n"
     ]
    }
   ],
   "source": [
    "V_ver = [0.00149,0.00149,0.00148,0.00148,0.00149]\n",
    "V_med = [1.50,1.51,1.51,1.50,1.51]#mA\n",
    "V_ver_m = st.mean(V_ver)\n",
    "V_med_m = st.mean(V_med)\n",
    "ecal_m = V_med_m*mA - V_ver_m\n",
    "print(f'V_ver_m: {V_ver_m}\\nV_med_m: {V_med_m}\\necal_m: {ecal_m}')"
   ]
  },
  {
   "cell_type": "markdown",
   "metadata": {
    "id": "UhQhzqs9YceS"
   },
   "source": [
    "### Incertidumbres de tipo A"
   ]
  },
  {
   "cell_type": "code",
   "execution_count": 32,
   "metadata": {
    "colab": {
     "base_uri": "https://localhost:8080/"
    },
    "id": "3QHE35MXYceS",
    "outputId": "9d305922-3937-4682-d49a-ef1c3c0b3a18"
   },
   "outputs": [
    {
     "name": "stdout",
     "output_type": "stream",
     "text": [
      "Incertidumbre tipo A\n",
      "uA_V_ver: 2.4494897427831843e-06\n",
      "uA_V_med: 2.4494897427831843e-06\n"
     ]
    }
   ],
   "source": [
    "V_med_mA = list(map(lambda x: x*mA, V_med))#paso de mA a Ampere\n",
    "\n",
    "uA_V_ver = incertidumbre_A(V_ver)\n",
    "uA_V_med = incertidumbre_A(V_med_mA)\n",
    "print(f'Incertidumbre tipo A\\nuA_V_ver: {uA_V_ver}\\nuA_V_med: {uA_V_med}')"
   ]
  },
  {
   "cell_type": "markdown",
   "metadata": {
    "id": "BKk7HFM4YceT"
   },
   "source": [
    "### Incertidumbres de tipo B"
   ]
  },
  {
   "cell_type": "code",
   "execution_count": 33,
   "metadata": {
    "colab": {
     "base_uri": "https://localhost:8080/"
    },
    "id": "JJ3w6D1IYceT",
    "outputId": "69416823-1443-49d1-fbb5-f7e731af5cf6"
   },
   "outputs": [
    {
     "name": "stdout",
     "output_type": "stream",
     "text": [
      "Incertidumbre tipo B\n",
      "uB_V_ver: 3.623995495336942e-05\n",
      "uB_V_med: 2.8867513459481293e-06\n"
     ]
    }
   ],
   "source": [
    "#valores sacados del datasheet del tester:\n",
    "nd_ver = 6\n",
    "er_p_ver = 0.17\n",
    "Ci_V_ver = int(V_ver_m*100000) #son 6 digitos, y V_ver_m esta con 5 decimales\n",
    "\n",
    "nd_med = 2\n",
    "er_p_med = 1\n",
    "Ci_V_med = int(V_med_m*1000) #son 4 digitos, y V_med_m esta con 3 decimales\n",
    "\n",
    "uB_V_ver = inecrtidumbre_B(er_p_ver, nd_ver, Ci_V_ver, V_ver_m)\n",
    "uB_V_med = (res[1]/2)/np.sqrt(3)\n",
    "print(f'Incertidumbre tipo B\\nuB_V_ver: {uB_V_ver}\\nuB_V_med: {uB_V_med}')"
   ]
  },
  {
   "cell_type": "markdown",
   "metadata": {
    "id": "Y29uWH0AYceU"
   },
   "source": [
    "### Incertidumbre total de cada magnitud e incertidumbre combinada - funcion error de calculo"
   ]
  },
  {
   "cell_type": "code",
   "execution_count": 34,
   "metadata": {
    "colab": {
     "base_uri": "https://localhost:8080/"
    },
    "id": "3uRCo9jTYceU",
    "outputId": "414e7c7c-1694-4aa3-b6c1-47b6c388dea2"
   },
   "outputs": [
    {
     "name": "stdout",
     "output_type": "stream",
     "text": [
      "Incertidumbre total\n",
      "uc_V_ver: 3.623995495336942e-05\n",
      "uc_V_med: 3.785938897200187e-06\n",
      "uc_ecal: 3.6437174264143734e-05\n"
     ]
    }
   ],
   "source": [
    "uc_V_ver = uB_V_ver\n",
    "uc_V_med = incertidumbre_total_A_B(uA_V_med, uB_V_med)\n",
    "print(f'Incertidumbre total\\nuc_V_ver: {uc_V_ver}\\nuc_V_med: {uc_V_med}')\n",
    "\n",
    "uc_ecal = mt.sqrt(uc_V_ver**2+uc_V_med**2)\n",
    "print(f'uc_ecal: {uc_ecal}')"
   ]
  },
  {
   "cell_type": "markdown",
   "metadata": {
    "id": "BSF49zuDYceU"
   },
   "source": [
    "### verificacion calibracion"
   ]
  },
  {
   "cell_type": "code",
   "execution_count": 35,
   "metadata": {
    "colab": {
     "base_uri": "https://localhost:8080/"
    },
    "id": "-tVUsBcRYceU",
    "outputId": "07406096-5f2f-4de1-c357-e79eea830c8b"
   },
   "outputs": [
    {
     "name": "stdout",
     "output_type": "stream",
     "text": [
      "Uc_ecal: 7.287434852828747e-05\n",
      "delta_V: 1.706e-05\n",
      "|ecal_m|+Uc_ecal = 7.287436852828747e-05\n",
      "\u001b[1mNO verifica calibracion\n"
     ]
    }
   ],
   "source": [
    "k95 = 2\n",
    "Uc_ecal = uc_ecal*k95\n",
    "print(f'Uc_ecal: {Uc_ecal}')\n",
    "\n",
    "delta_V = V_med_m*mA*((er_p_med/100)+(nd_med/Ci_V_med))\n",
    "print(f'delta_V: {delta_V}')\n",
    "\n",
    "suma = abs(ecal_m*uA)+ Uc_ecal\n",
    "print(f'|ecal_m|+Uc_ecal = {suma}')\n",
    "\n",
    "if suma <= delta_V: print('\\033[1m'+'Verifica calibracion')\n",
    "else: print('\\033[1m'+'NO verifica calibracion')"
   ]
  },
  {
   "cell_type": "markdown",
   "metadata": {
    "id": "uvH8gwXMZ30s"
   },
   "source": [
    "## **Escala: 2000uA**\n",
    "## **Fuente: 1,5 mA**"
   ]
  },
  {
   "cell_type": "code",
   "execution_count": 36,
   "metadata": {
    "colab": {
     "base_uri": "https://localhost:8080/"
    },
    "id": "8kJFe-giZ30t",
    "outputId": "af84882b-1e70-4906-ccba-eecb99aeec9b"
   },
   "outputs": [
    {
     "name": "stdout",
     "output_type": "stream",
     "text": [
      "V_ver_m: 0.001436\n",
      "V_med_m: 1461.6\n",
      "ecal_m: 2.5599999999999755e-05\n"
     ]
    }
   ],
   "source": [
    "V_ver = [0.00144,0.00144,0.00143,0.00143,0.00144]\n",
    "V_med = [1462,1461,1462,1462,1461]#uA\n",
    "V_ver_m = st.mean(V_ver)\n",
    "V_med_m = st.mean(V_med)\n",
    "ecal_m = V_med_m*uA - V_ver_m\n",
    "print(f'V_ver_m: {V_ver_m}\\nV_med_m: {V_med_m}\\necal_m: {ecal_m}')"
   ]
  },
  {
   "cell_type": "markdown",
   "metadata": {
    "id": "k-hzGQv6Z30t"
   },
   "source": [
    "### Incertidumbres de tipo A"
   ]
  },
  {
   "cell_type": "code",
   "execution_count": 37,
   "metadata": {
    "colab": {
     "base_uri": "https://localhost:8080/"
    },
    "id": "xqVIfyPeZ30t",
    "outputId": "671f5c35-5ccc-44fc-cd48-0189d91c7847"
   },
   "outputs": [
    {
     "name": "stdout",
     "output_type": "stream",
     "text": [
      "Incertidumbre tipo A\n",
      "uA_V_ver: 2.4494897427831843e-06\n",
      "uA_V_med: 2.449489742783503e-07\n"
     ]
    }
   ],
   "source": [
    "V_med_uA = list(map(lambda x: x*uA, V_med))#paso de mA a Ampere\n",
    "\n",
    "uA_V_ver = incertidumbre_A(V_ver)\n",
    "uA_V_med = incertidumbre_A(V_med_uA)\n",
    "print(f'Incertidumbre tipo A\\nuA_V_ver: {uA_V_ver}\\nuA_V_med: {uA_V_med}')"
   ]
  },
  {
   "cell_type": "markdown",
   "metadata": {
    "id": "Ge0nSLYDZ30t"
   },
   "source": [
    "### Incertidumbres de tipo B"
   ]
  },
  {
   "cell_type": "code",
   "execution_count": 38,
   "metadata": {
    "colab": {
     "base_uri": "https://localhost:8080/"
    },
    "id": "bktN_PwdZ30u",
    "outputId": "f78407ce-e5b0-4104-e429-d7909f85c49b"
   },
   "outputs": [
    {
     "name": "stdout",
     "output_type": "stream",
     "text": [
      "Incertidumbre tipo B\n",
      "uB_V_ver: 3.6195790549438136e-05\n",
      "uB_V_med: 2.886751345948129e-07\n"
     ]
    }
   ],
   "source": [
    "#valores sacados del datasheet del tester:\n",
    "nd_ver = 6\n",
    "er_p_ver = 0.17\n",
    "Ci_V_ver = int(V_ver_m*100000) #son 6 digitos, y V_ver_m esta con 5 decimales\n",
    "\n",
    "nd_med = 2\n",
    "er_p_med = 1\n",
    "Ci_V_med = int(V_med_m*1) #son 4 digitos, y V_med_m esta en uA sin decimales\n",
    "\n",
    "uB_V_ver = inecrtidumbre_B(er_p_ver, nd_ver, Ci_V_ver, V_ver_m)\n",
    "uB_V_med = (res[0]/2)/np.sqrt(3)\n",
    "print(f'Incertidumbre tipo B\\nuB_V_ver: {uB_V_ver}\\nuB_V_med: {uB_V_med}')"
   ]
  },
  {
   "cell_type": "markdown",
   "metadata": {
    "id": "b_HTCn1RZ30u"
   },
   "source": [
    "### Incertidumbre total de cada magnitud e incertidumbre combinada - funcion error de calculo"
   ]
  },
  {
   "cell_type": "code",
   "execution_count": 39,
   "metadata": {
    "colab": {
     "base_uri": "https://localhost:8080/"
    },
    "id": "6yeyt71qZ30u",
    "outputId": "5c996bee-bc90-4b4d-f2a7-4e742c37eae0"
   },
   "outputs": [
    {
     "name": "stdout",
     "output_type": "stream",
     "text": [
      "Incertidumbre total\n",
      "uc_V_ver: 3.6195790549438136e-05\n",
      "uc_V_med: 3.785938897200393e-07\n",
      "uc_ecal: 3.6197770467697704e-05\n"
     ]
    }
   ],
   "source": [
    "uc_V_ver = uB_V_ver\n",
    "uc_V_med = incertidumbre_total_A_B(uA_V_med, uB_V_med)\n",
    "print(f'Incertidumbre total\\nuc_V_ver: {uc_V_ver}\\nuc_V_med: {uc_V_med}')\n",
    "\n",
    "uc_ecal = mt.sqrt(uc_V_ver**2+uc_V_med**2)\n",
    "print(f'uc_ecal: {uc_ecal}')"
   ]
  },
  {
   "cell_type": "markdown",
   "metadata": {
    "id": "TeBYIA7yZ30u"
   },
   "source": [
    "### verificacion calibracion"
   ]
  },
  {
   "cell_type": "code",
   "execution_count": 40,
   "metadata": {
    "colab": {
     "base_uri": "https://localhost:8080/"
    },
    "id": "uvqEY2GsZ30u",
    "outputId": "142e76b2-c5f7-42d4-ff02-4c85df44c6d6"
   },
   "outputs": [
    {
     "name": "stdout",
     "output_type": "stream",
     "text": [
      "Uc_ecal: 7.239554093539541e-05\n",
      "delta_V: 1.661682135523614e-05\n",
      "|ecal_m|+Uc_ecal = 7.23955665353954e-05\n",
      "\u001b[1mNO verifica calibracion\n"
     ]
    }
   ],
   "source": [
    "k95 = 2\n",
    "Uc_ecal = uc_ecal*k95\n",
    "print(f'Uc_ecal: {Uc_ecal}')\n",
    "\n",
    "delta_V = V_med_m*uA*((er_p_med/100)+(nd_med/Ci_V_med))\n",
    "print(f'delta_V: {delta_V}')\n",
    "\n",
    "suma = abs(ecal_m*uA)+ Uc_ecal\n",
    "print(f'|ecal_m|+Uc_ecal = {suma}')\n",
    "\n",
    "if suma <= delta_V: print('\\033[1m'+'Verifica calibracion')\n",
    "else: print('\\033[1m'+'NO verifica calibracion')"
   ]
  },
  {
   "cell_type": "markdown",
   "metadata": {
    "id": "_ugIAH2icJwg"
   },
   "source": [
    "## **Escala: 20mA**\n",
    "## **Fuente: 6,75mA**"
   ]
  },
  {
   "cell_type": "code",
   "execution_count": 41,
   "metadata": {
    "colab": {
     "base_uri": "https://localhost:8080/"
    },
    "id": "WoxIfxJ5cJwo",
    "outputId": "af1212e7-7a17-4020-dedb-666442166e9a"
   },
   "outputs": [
    {
     "name": "stdout",
     "output_type": "stream",
     "text": [
      "V_ver_m: 0.006736\n",
      "V_med_m: 6.763999999999999\n",
      "ecal_m: 2.799999999999938e-05\n"
     ]
    }
   ],
   "source": [
    "V_ver = [0.00674,0.00674,0.00673,0.00673,0.00674]\n",
    "V_med = [6.76,6.76,6.77,6.77,6.76]#mA\n",
    "V_ver_m = st.mean(V_ver)\n",
    "V_med_m = st.mean(V_med)\n",
    "ecal_m = V_med_m*mA - V_ver_m\n",
    "print(f'V_ver_m: {V_ver_m}\\nV_med_m: {V_med_m}\\necal_m: {ecal_m}')"
   ]
  },
  {
   "cell_type": "markdown",
   "metadata": {
    "id": "rBobkZvIcJwo"
   },
   "source": [
    "### Incertidumbres de tipo A"
   ]
  },
  {
   "cell_type": "code",
   "execution_count": 42,
   "metadata": {
    "colab": {
     "base_uri": "https://localhost:8080/"
    },
    "id": "hdnhxN7icJwo",
    "outputId": "e14a4971-cc78-4778-a6dc-208688b71271"
   },
   "outputs": [
    {
     "name": "stdout",
     "output_type": "stream",
     "text": [
      "[0.0067599999999999995, 0.0067599999999999995, 0.00677, 0.00677, 0.0067599999999999995]\n",
      "[0.00674, 0.00674, 0.00673, 0.00673, 0.00674]\n",
      "Incertidumbre tipo A\n",
      "uA_V_ver: 2.4494897427832906e-06\n",
      "uA_V_med: 2.4494897427832906e-06\n"
     ]
    }
   ],
   "source": [
    "V_med_mA = list(map(lambda x: x*mA, V_med))#paso de mA a Ampere\n",
    "print(V_med_mA)\n",
    "print(V_ver)\n",
    "uA_V_ver = incertidumbre_A(V_ver)\n",
    "uA_V_med = incertidumbre_A(V_med_mA)\n",
    "print(f'Incertidumbre tipo A\\nuA_V_ver: {uA_V_ver}\\nuA_V_med: {uA_V_med}')"
   ]
  },
  {
   "cell_type": "markdown",
   "metadata": {
    "id": "1sbxLD0-cJwo"
   },
   "source": [
    "### Incertidumbres de tipo B"
   ]
  },
  {
   "cell_type": "code",
   "execution_count": 43,
   "metadata": {
    "colab": {
     "base_uri": "https://localhost:8080/"
    },
    "id": "vczY3nbbcJwo",
    "outputId": "0f1d5d7e-10bb-4c1b-a798-65b819ee147b"
   },
   "outputs": [
    {
     "name": "stdout",
     "output_type": "stream",
     "text": [
      "Incertidumbre tipo B\n",
      "uB_V_ver: 4.128325307500771e-05\n",
      "uB_V_med: 2.8867513459481293e-06\n"
     ]
    }
   ],
   "source": [
    "#valores sacados del datasheet del tester:\n",
    "nd_ver = 6\n",
    "er_p_ver = 0.17\n",
    "Ci_V_ver = int(V_ver_m*100000) #son 6 digitos, y V_ver_m esta con 5 decimales\n",
    "\n",
    "nd_med = 2\n",
    "er_p_med = 1\n",
    "Ci_V_med = int(V_med_m*100) #son 3 digitos, y V_med_m esta con 2 decimales\n",
    "\n",
    "uB_V_ver = inecrtidumbre_B(er_p_ver, nd_ver, Ci_V_ver, V_ver_m)\n",
    "uB_V_med = (res[1]/2)/np.sqrt(3)\n",
    "print(f'Incertidumbre tipo B\\nuB_V_ver: {uB_V_ver}\\nuB_V_med: {uB_V_med}')"
   ]
  },
  {
   "cell_type": "markdown",
   "metadata": {
    "id": "yKs2G5OfcJwo"
   },
   "source": [
    "### Incertidumbre total de cada magnitud e incertidumbre combinada - funcion error de calculo"
   ]
  },
  {
   "cell_type": "code",
   "execution_count": 44,
   "metadata": {
    "colab": {
     "base_uri": "https://localhost:8080/"
    },
    "id": "EvnONKcScJwp",
    "outputId": "9693a941-c4e9-488f-ad9f-f09096247c90"
   },
   "outputs": [
    {
     "name": "stdout",
     "output_type": "stream",
     "text": [
      "Incertidumbre total\n",
      "uc_V_ver: 4.128325307500771e-05\n",
      "uc_V_med: 3.7859388972002555e-06\n",
      "uc_ecal: 4.145648704109488e-05\n"
     ]
    }
   ],
   "source": [
    "uc_V_ver = uB_V_ver\n",
    "uc_V_med = incertidumbre_total_A_B(uA_V_med, uB_V_med)\n",
    "print(f'Incertidumbre total\\nuc_V_ver: {uc_V_ver}\\nuc_V_med: {uc_V_med}')\n",
    "\n",
    "uc_ecal = mt.sqrt(uc_V_ver**2+uc_V_med**2)\n",
    "print(f'uc_ecal: {uc_ecal}')"
   ]
  },
  {
   "cell_type": "markdown",
   "metadata": {
    "id": "KgJscBCGcJwp"
   },
   "source": [
    "### verificacion calibracion"
   ]
  },
  {
   "cell_type": "code",
   "execution_count": 45,
   "metadata": {
    "colab": {
     "base_uri": "https://localhost:8080/"
    },
    "id": "My8JTzfBcJwp",
    "outputId": "134d3df4-f0bd-4a12-d794-e93cec165479"
   },
   "outputs": [
    {
     "name": "stdout",
     "output_type": "stream",
     "text": [
      "Uc_ecal: 8.291297408218975e-05\n",
      "delta_V: 8.765183431952661e-05\n",
      "|ecal_m|+Uc_ecal = 8.294097408218975e-05\n",
      "\u001b[1mVerifica calibracion\n"
     ]
    }
   ],
   "source": [
    "k95 = 2\n",
    "Uc_ecal = uc_ecal*k95\n",
    "print(f'Uc_ecal: {Uc_ecal}')\n",
    "\n",
    "delta_V = V_med_m*mA*((er_p_med/100)+(nd_med/Ci_V_med))\n",
    "print(f'delta_V: {delta_V}')\n",
    "\n",
    "suma = abs(ecal_m*mA)+ Uc_ecal\n",
    "print(f'|ecal_m|+Uc_ecal = {suma}')\n",
    "\n",
    "if suma <= delta_V: print('\\033[1m'+'Verifica calibracion')\n",
    "else: print('\\033[1m'+'NO verifica calibracion')"
   ]
  },
  {
   "cell_type": "markdown",
   "metadata": {
    "id": "RZoZGrjyfGfZ"
   },
   "source": [
    "## **Escala: 200mA**\n",
    "## **Fuente: 6,75mA**"
   ]
  },
  {
   "cell_type": "code",
   "execution_count": 46,
   "metadata": {
    "colab": {
     "base_uri": "https://localhost:8080/"
    },
    "id": "XkqX7H6PfGfe",
    "outputId": "7ac09168-de64-4a56-9fda-6012941f8044"
   },
   "outputs": [
    {
     "name": "stdout",
     "output_type": "stream",
     "text": [
      "V_ver_m: 0.0067540000000000005\n",
      "V_med_m: 6.78\n",
      "ecal_m: 2.599999999999998e-05\n"
     ]
    }
   ],
   "source": [
    "V_ver = [0.00675,0.00675,0.00676,0.00676,0.00675]\n",
    "V_med = [6.8,6.8,6.7,6.8,6.8]#mA\n",
    "V_ver_m = st.mean(V_ver)\n",
    "V_med_m = st.mean(V_med)\n",
    "ecal_m = V_med_m*mA - V_ver_m\n",
    "print(f'V_ver_m: {V_ver_m}\\nV_med_m: {V_med_m}\\necal_m: {ecal_m}')"
   ]
  },
  {
   "cell_type": "markdown",
   "metadata": {
    "id": "jGgQQ1amfGff"
   },
   "source": [
    "### Incertidumbres de tipo A"
   ]
  },
  {
   "cell_type": "code",
   "execution_count": 47,
   "metadata": {
    "colab": {
     "base_uri": "https://localhost:8080/"
    },
    "id": "dUOTP81sfGff",
    "outputId": "09fa970c-a032-48f2-d96e-05929c5721c8"
   },
   "outputs": [
    {
     "name": "stdout",
     "output_type": "stream",
     "text": [
      "Incertidumbre tipo A\n",
      "uA_V_ver: 2.4494897427832906e-06\n",
      "uA_V_med: 1.999999999999988e-05\n"
     ]
    }
   ],
   "source": [
    "V_med_mA = list(map(lambda x: x*mA, V_med))#paso de mA a Ampere\n",
    "\n",
    "uA_V_ver = incertidumbre_A(V_ver)\n",
    "uA_V_med = incertidumbre_A(V_med_mA)\n",
    "print(f'Incertidumbre tipo A\\nuA_V_ver: {uA_V_ver}\\nuA_V_med: {uA_V_med}')"
   ]
  },
  {
   "cell_type": "markdown",
   "metadata": {
    "id": "Ua8aOUaJfGff"
   },
   "source": [
    "### Incertidumbres de tipo B"
   ]
  },
  {
   "cell_type": "code",
   "execution_count": 48,
   "metadata": {
    "colab": {
     "base_uri": "https://localhost:8080/"
    },
    "id": "uzNbMa_4fGff",
    "outputId": "d9298461-d509-46f0-c095-98bc2d6e7b5c"
   },
   "outputs": [
    {
     "name": "stdout",
     "output_type": "stream",
     "text": [
      "Incertidumbre tipo B\n",
      "uB_V_ver: 4.1290564481730184e-05\n",
      "uB_V_med: 2.8867513459481293e-05\n"
     ]
    }
   ],
   "source": [
    "#valores sacados del datasheet del tester:\n",
    "nd_ver = 6\n",
    "er_p_ver = 0.17\n",
    "Ci_V_ver = int(V_ver_m*100000) #son 6 digitos, y V_ver_m esta con 5 decimales\n",
    "\n",
    "nd_med = 5\n",
    "er_p_med = 1.2\n",
    "Ci_V_med = int(V_med_m*10) #son 2 digitos, y V_med_m esta con 1 decimal\n",
    "\n",
    "uB_V_ver = inecrtidumbre_B(er_p_ver, nd_ver, Ci_V_ver, V_ver_m)\n",
    "uB_V_med = (res[2]/2)/np.sqrt(3)\n",
    "print(f'Incertidumbre tipo B\\nuB_V_ver: {uB_V_ver}\\nuB_V_med: {uB_V_med}')"
   ]
  },
  {
   "cell_type": "markdown",
   "metadata": {
    "id": "-XV6oEMtfGff"
   },
   "source": [
    "### Incertidumbre total de cada magnitud e incertidumbre combinada - funcion error de calculo"
   ]
  },
  {
   "cell_type": "code",
   "execution_count": 49,
   "metadata": {
    "colab": {
     "base_uri": "https://localhost:8080/"
    },
    "id": "M30oLT1yfGff",
    "outputId": "8579e3c5-c69d-455e-fc14-e3f7bdf28f94"
   },
   "outputs": [
    {
     "name": "stdout",
     "output_type": "stream",
     "text": [
      "Incertidumbre total\n",
      "uc_V_ver: 4.1290564481730184e-05\n",
      "uc_V_med: 3.5118845842842394e-05\n",
      "uc_ecal: 5.420557211720255e-05\n"
     ]
    }
   ],
   "source": [
    "uc_V_ver = uB_V_ver\n",
    "uc_V_med = incertidumbre_total_A_B(uA_V_med, uB_V_med)\n",
    "print(f'Incertidumbre total\\nuc_V_ver: {uc_V_ver}\\nuc_V_med: {uc_V_med}')\n",
    "\n",
    "uc_ecal = mt.sqrt(uc_V_ver**2+uc_V_med**2)\n",
    "print(f'uc_ecal: {uc_ecal}')"
   ]
  },
  {
   "cell_type": "markdown",
   "metadata": {
    "id": "qnOICsVmfGff"
   },
   "source": [
    "### verificacion calibracion"
   ]
  },
  {
   "cell_type": "code",
   "execution_count": 50,
   "metadata": {
    "colab": {
     "base_uri": "https://localhost:8080/"
    },
    "id": "Lbi0CxPGfGfg",
    "outputId": "b670dcff-7f81-43f1-ffa8-5999ca5d98fe"
   },
   "outputs": [
    {
     "name": "stdout",
     "output_type": "stream",
     "text": [
      "Uc_ecal: 0.0001084111442344051\n",
      "delta_V: 0.0005873301492537313\n",
      "|ecal_m|+Uc_ecal = 0.0001084371442344051\n",
      "\u001b[1mVerifica calibracion\n"
     ]
    }
   ],
   "source": [
    "k95 = 2\n",
    "Uc_ecal = uc_ecal*k95\n",
    "print(f'Uc_ecal: {Uc_ecal}')\n",
    "\n",
    "delta_V = V_med_m*mA*((er_p_med/100)+(nd_med/Ci_V_med))\n",
    "print(f'delta_V: {delta_V}')\n",
    "\n",
    "suma = abs(ecal_m*mA)+ Uc_ecal\n",
    "print(f'|ecal_m|+Uc_ecal = {suma}')\n",
    "\n",
    "if suma <= delta_V: print('\\033[1m' + 'Verifica calibracion')\n",
    "else: print('\\033[1m' + 'NO verifica calibracion')"
   ]
  }
 ],
 "metadata": {
  "colab": {
   "collapsed_sections": [
    "qAVo5T2atTyj",
    "2xTaJ-8hhbML",
    "aglt_uWosuxl",
    "g959zImQFsHZ",
    "oIc5sbtgL2ZS",
    "uvH8gwXMZ30s",
    "_ugIAH2icJwg",
    "RZoZGrjyfGfZ"
   ],
   "include_colab_link": true,
   "name": "TPL3_Calibracion.ipynb",
   "provenance": []
  },
  "kernelspec": {
   "display_name": "Python 3 (ipykernel)",
   "language": "python",
   "name": "python3"
  },
  "language_info": {
   "codemirror_mode": {
    "name": "ipython",
    "version": 3
   },
   "file_extension": ".py",
   "mimetype": "text/x-python",
   "name": "python",
   "nbconvert_exporter": "python",
   "pygments_lexer": "ipython3",
   "version": "3.9.12"
  }
 },
 "nbformat": 4,
 "nbformat_minor": 1
}
